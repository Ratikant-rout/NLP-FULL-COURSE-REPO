{
  "nbformat": 4,
  "nbformat_minor": 0,
  "metadata": {
    "colab": {
      "provenance": [],
      "authorship_tag": "ABX9TyP+GIQdmSmIsFvUAOmhCloS",
      "include_colab_link": true
    },
    "kernelspec": {
      "name": "python3",
      "display_name": "Python 3"
    },
    "language_info": {
      "name": "python"
    }
  },
  "cells": [
    {
      "cell_type": "markdown",
      "metadata": {
        "id": "view-in-github",
        "colab_type": "text"
      },
      "source": [
        "<a href=\"https://colab.research.google.com/github/Ratikant-rout/NLP-FULL-COURSE-REPO/blob/main/PART_2_STEMMING_LEMMATIZATION_NLP_CODES.ipynb\" target=\"_parent\"><img src=\"https://colab.research.google.com/assets/colab-badge.svg\" alt=\"Open In Colab\"/></a>"
      ]
    },
    {
      "cell_type": "code",
      "execution_count": null,
      "metadata": {
        "id": "qQf1fKiIRfrM"
      },
      "outputs": [],
      "source": []
    },
    {
      "cell_type": "markdown",
      "source": [
        "# STEMMING AND LEMMATIZATION"
      ],
      "metadata": {
        "id": "yoFfDxtDRmMA"
      }
    },
    {
      "cell_type": "code",
      "source": [
        "'''Stemming and lemmatization are Natural Language Processing (NLP) techniques\n",
        "used to reduce words to their base or root form.\n",
        "This helps in text analysis, information retrieval, and other NLP tasks.'''"
      ],
      "metadata": {
        "colab": {
          "base_uri": "https://localhost:8080/",
          "height": 70
        },
        "id": "QnsRmGsTRqe7",
        "outputId": "c8f6460a-1f5c-41a8-a104-985b0ed9dce4"
      },
      "execution_count": null,
      "outputs": [
        {
          "output_type": "execute_result",
          "data": {
            "text/plain": [
              "'Stemming and lemmatization are Natural Language Processing (NLP) techniques \\nused to reduce words to their base or root form. \\nThis helps in text analysis, information retrieval, and other NLP tasks.'"
            ],
            "application/vnd.google.colaboratory.intrinsic+json": {
              "type": "string"
            }
          },
          "metadata": {},
          "execution_count": 1
        }
      ]
    },
    {
      "cell_type": "code",
      "source": [],
      "metadata": {
        "id": "xPp5m0EtTya8"
      },
      "execution_count": null,
      "outputs": []
    },
    {
      "cell_type": "code",
      "source": [
        "#STEMMING\n",
        "#CLASSIFICATION PROBLEM\n",
        "#COMMENTS OF PRODUCT IS A POSITIVE REVIEW OR NEGATIVE REVIEW\n",
        "#REVIEW ----> EATING , EATEN , EATS.\n",
        "\n",
        "\n",
        "words = [\"eating\",\"eats\",\"ate\",\"adjustable\",\"rafting\",\"ability\",\"meeting\"]"
      ],
      "metadata": {
        "id": "9fUWZDwWRqni"
      },
      "execution_count": null,
      "outputs": []
    },
    {
      "cell_type": "code",
      "source": [],
      "metadata": {
        "id": "alx9Ek5iRquR"
      },
      "execution_count": null,
      "outputs": []
    },
    {
      "cell_type": "markdown",
      "source": [
        "# Porter Stemmer"
      ],
      "metadata": {
        "id": "rdq2tDoUUD9d"
      }
    },
    {
      "cell_type": "code",
      "source": [
        "from nltk.stem import PorterStemmer\n",
        "stemming = PorterStemmer()"
      ],
      "metadata": {
        "id": "JYQHO0AtTz7P"
      },
      "execution_count": null,
      "outputs": []
    },
    {
      "cell_type": "code",
      "source": [
        "for word in words:\n",
        "    print(word + \"--->\" +stemming.stem(word))"
      ],
      "metadata": {
        "colab": {
          "base_uri": "https://localhost:8080/"
        },
        "id": "8tQMOuvGTz-T",
        "outputId": "d7ff6c11-75a1-4011-ef40-83c5edbd7b80"
      },
      "execution_count": null,
      "outputs": [
        {
          "output_type": "stream",
          "name": "stdout",
          "text": [
            "eating--->eat\n",
            "eats--->eat\n",
            "ate--->ate\n",
            "adjustable--->adjust\n",
            "rafting--->raft\n",
            "ability--->abil\n",
            "meeting--->meet\n"
          ]
        }
      ]
    },
    {
      "cell_type": "code",
      "source": [],
      "metadata": {
        "id": "qGD-tmzAUxwj"
      },
      "execution_count": null,
      "outputs": []
    },
    {
      "cell_type": "code",
      "source": [
        "stemming.stem('Congratualtions') #Disadvantage"
      ],
      "metadata": {
        "colab": {
          "base_uri": "https://localhost:8080/",
          "height": 36
        },
        "id": "hrZcUQeEUTyl",
        "outputId": "782dc523-1a61-461c-ef15-93a8c89a5772"
      },
      "execution_count": null,
      "outputs": [
        {
          "output_type": "execute_result",
          "data": {
            "text/plain": [
              "'congratualt'"
            ],
            "application/vnd.google.colaboratory.intrinsic+json": {
              "type": "string"
            }
          },
          "metadata": {},
          "execution_count": 8
        }
      ]
    },
    {
      "cell_type": "code",
      "source": [],
      "metadata": {
        "id": "v559P3idUjOJ"
      },
      "execution_count": null,
      "outputs": []
    },
    {
      "cell_type": "markdown",
      "source": [
        "# REGx STEMMER CLASS\n"
      ],
      "metadata": {
        "id": "Z_lcpHW0UuvH"
      }
    },
    {
      "cell_type": "code",
      "source": [
        "from nltk.stem import RegexpStemmer\n",
        "reg_stemmer = RegexpStemmer('ing$|s$|e$|able$') #min length of a word = 4"
      ],
      "metadata": {
        "id": "w4L6dVNCUygv"
      },
      "execution_count": null,
      "outputs": []
    },
    {
      "cell_type": "code",
      "source": [
        "reg_stemmer.stem('eating')"
      ],
      "metadata": {
        "colab": {
          "base_uri": "https://localhost:8080/",
          "height": 36
        },
        "id": "dSEMBoNMUyjX",
        "outputId": "4a9311ec-d7d3-42a4-d5a9-eeebe4c12f1f"
      },
      "execution_count": null,
      "outputs": [
        {
          "output_type": "execute_result",
          "data": {
            "text/plain": [
              "'eat'"
            ],
            "application/vnd.google.colaboratory.intrinsic+json": {
              "type": "string"
            }
          },
          "metadata": {},
          "execution_count": 20
        }
      ]
    },
    {
      "cell_type": "code",
      "source": [
        "reg_stemmer.stem('ingeating')"
      ],
      "metadata": {
        "colab": {
          "base_uri": "https://localhost:8080/",
          "height": 36
        },
        "id": "MXZt4NqLUymF",
        "outputId": "d855fcd9-f7f6-451e-fbb7-a6724022d16d"
      },
      "execution_count": null,
      "outputs": [
        {
          "output_type": "execute_result",
          "data": {
            "text/plain": [
              "'ingeat'"
            ],
            "application/vnd.google.colaboratory.intrinsic+json": {
              "type": "string"
            }
          },
          "metadata": {},
          "execution_count": 21
        }
      ]
    },
    {
      "cell_type": "code",
      "source": [],
      "metadata": {
        "id": "tvtw7dSLVZS2"
      },
      "execution_count": null,
      "outputs": []
    },
    {
      "cell_type": "markdown",
      "source": [
        "# Snow Ball Stemmer\n"
      ],
      "metadata": {
        "id": "Jr7Tkcv7Vl5v"
      }
    },
    {
      "cell_type": "code",
      "source": [
        "from nltk.stem import SnowballStemmer\n",
        "snowball = SnowballStemmer(language='english')"
      ],
      "metadata": {
        "id": "Rr1qwJiTVr2G"
      },
      "execution_count": null,
      "outputs": []
    },
    {
      "cell_type": "code",
      "source": [
        "for word in words:\n",
        "    print(word + \"--->\" + snowball.stem(word))"
      ],
      "metadata": {
        "colab": {
          "base_uri": "https://localhost:8080/"
        },
        "id": "AavGqcN8Vr5N",
        "outputId": "118c9b4d-7381-45b9-e6e7-91642c45e7dc"
      },
      "execution_count": null,
      "outputs": [
        {
          "output_type": "stream",
          "name": "stdout",
          "text": [
            "eating--->eat\n",
            "eats--->eat\n",
            "ate--->ate\n",
            "adjustable--->adjust\n",
            "rafting--->raft\n",
            "ability--->abil\n",
            "meeting--->meet\n"
          ]
        }
      ]
    },
    {
      "cell_type": "code",
      "source": [
        "#Difference Between Snowball Stemmer and Porter Stemmer\n",
        "\n",
        "print(stemming.stem('generous'),stemming.stem('sportingly'))"
      ],
      "metadata": {
        "colab": {
          "base_uri": "https://localhost:8080/"
        },
        "id": "eu-0_2ViVr8J",
        "outputId": "df2c5f99-b8f4-49bc-933c-733bb5928d12"
      },
      "execution_count": null,
      "outputs": [
        {
          "output_type": "stream",
          "name": "stdout",
          "text": [
            "gener sportingli\n"
          ]
        }
      ]
    },
    {
      "cell_type": "code",
      "source": [
        "print(snowball.stem('generous'),snowball.stem('sportingly'))"
      ],
      "metadata": {
        "colab": {
          "base_uri": "https://localhost:8080/"
        },
        "id": "L7hp2-rWWeMF",
        "outputId": "d364dd84-d585-4f2e-cfa9-9fed30c041aa"
      },
      "execution_count": null,
      "outputs": [
        {
          "output_type": "stream",
          "name": "stdout",
          "text": [
            "generous sport\n"
          ]
        }
      ]
    },
    {
      "cell_type": "code",
      "source": [],
      "metadata": {
        "id": "ar71PaAeWpb6"
      },
      "execution_count": null,
      "outputs": []
    },
    {
      "cell_type": "markdown",
      "source": [
        "# LEMMATIZATION - SOLUTION TO STEMMING PROBLEM"
      ],
      "metadata": {
        "id": "lUjiRhrkW8hW"
      }
    },
    {
      "cell_type": "code",
      "source": [
        "# Wordnet Lemmatization - The output we will get after lemmatization is called lemma\n",
        "#IT TAKES MORE TIME THAN OTHER LEMMATIZATION\n",
        "from nltk.stem import WordNetLemmatizer\n",
        "lemmatizer = WordNetLemmatizer()"
      ],
      "metadata": {
        "id": "Pbg75q6FXDWl"
      },
      "execution_count": null,
      "outputs": []
    },
    {
      "cell_type": "code",
      "source": [
        "import nltk\n",
        "nltk.download('wordnet')"
      ],
      "metadata": {
        "colab": {
          "base_uri": "https://localhost:8080/"
        },
        "id": "rayWaZEcXDc3",
        "outputId": "36fc979b-8307-4afa-fbae-5b9b51af8819"
      },
      "execution_count": null,
      "outputs": [
        {
          "output_type": "stream",
          "name": "stderr",
          "text": [
            "[nltk_data] Downloading package wordnet to /root/nltk_data...\n",
            "[nltk_data]   Package wordnet is already up-to-date!\n"
          ]
        },
        {
          "output_type": "execute_result",
          "data": {
            "text/plain": [
              "True"
            ]
          },
          "metadata": {},
          "execution_count": 53
        }
      ]
    },
    {
      "cell_type": "code",
      "source": [
        "lemmatizer.lemmatize('eating')"
      ],
      "metadata": {
        "colab": {
          "base_uri": "https://localhost:8080/",
          "height": 36
        },
        "id": "grbDMCnZXEDe",
        "outputId": "ec3ee980-0bfe-4196-8c68-9418834f8ce6"
      },
      "execution_count": null,
      "outputs": [
        {
          "output_type": "execute_result",
          "data": {
            "text/plain": [
              "'eating'"
            ],
            "application/vnd.google.colaboratory.intrinsic+json": {
              "type": "string"
            }
          },
          "metadata": {},
          "execution_count": 54
        }
      ]
    },
    {
      "cell_type": "code",
      "source": [
        "'''\n",
        "POS TAGS\n",
        "NOUN - n\n",
        "verb - v\n",
        "adjective - a\n",
        "adverb - r\n",
        "'''\n",
        "\n",
        "lemmatizer.lemmatize('eating',pos='v')"
      ],
      "metadata": {
        "colab": {
          "base_uri": "https://localhost:8080/",
          "height": 36
        },
        "id": "kKY6uOqhg3EA",
        "outputId": "1ccd647e-054d-4be9-8ed5-41a047b2979b"
      },
      "execution_count": null,
      "outputs": [
        {
          "output_type": "execute_result",
          "data": {
            "text/plain": [
              "'eat'"
            ],
            "application/vnd.google.colaboratory.intrinsic+json": {
              "type": "string"
            }
          },
          "metadata": {},
          "execution_count": 55
        }
      ]
    },
    {
      "cell_type": "code",
      "source": [
        "words = [\"eating\",\"eats\",\"ate\",\"adjustable\",\"rafting\",\"ability\",\"meeting\",\"programs\"]\n",
        "\n",
        "for word in words:\n",
        "    print(word + \"--->\" + lemmatizer.lemmatize(word,pos='v'))"
      ],
      "metadata": {
        "colab": {
          "base_uri": "https://localhost:8080/"
        },
        "id": "XH1XXUBmhK22",
        "outputId": "1d375b14-2210-4546-abff-b49c39650047"
      },
      "execution_count": null,
      "outputs": [
        {
          "output_type": "stream",
          "name": "stdout",
          "text": [
            "eating--->eat\n",
            "eats--->eat\n",
            "ate--->eat\n",
            "adjustable--->adjustable\n",
            "rafting--->raft\n",
            "ability--->ability\n",
            "meeting--->meet\n",
            "programs--->program\n"
          ]
        }
      ]
    },
    {
      "cell_type": "code",
      "source": [
        "lemmatizer.lemmatize('better',pos='v') , lemmatizer.lemmatize('sportingly',pos='v')"
      ],
      "metadata": {
        "colab": {
          "base_uri": "https://localhost:8080/"
        },
        "id": "OuEET-w4hadL",
        "outputId": "3ec34c4e-f4e3-442b-8db8-c7c3d9cea7c5"
      },
      "execution_count": null,
      "outputs": [
        {
          "output_type": "execute_result",
          "data": {
            "text/plain": [
              "('better', 'sportingly')"
            ]
          },
          "metadata": {},
          "execution_count": 57
        }
      ]
    },
    {
      "cell_type": "code",
      "source": [],
      "metadata": {
        "id": "6lSTUOF1r377"
      },
      "execution_count": null,
      "outputs": []
    },
    {
      "cell_type": "markdown",
      "source": [
        "# STOP WORDS AND IT'S IMPORTANCE"
      ],
      "metadata": {
        "id": "sD4prjJUsTOj"
      }
    },
    {
      "cell_type": "code",
      "source": [
        "paragraph = '''\n",
        "My dear friends,\n",
        "\n",
        "It is a great honor to stand before you today. Whenever I interact with young minds, I see the future of our nation in their eyes. I see the energy, the passion, and the limitless potential that can shape India into a developed nation.\n",
        "\n",
        "I always tell young people: Dream big. Dreams are not those that come to you when you sleep; dreams are those that do not let you sleep. A dream is the seed of transformation. When you dream, you ignite your mind to think, to innovate, and to achieve.\n",
        "\n",
        "Throughout history, great leaders, scientists, and visionaries have transformed their dreams into reality. They did not wait for opportunities; they created them. Look at the Wright brothers, who dreamed of flying. Look at scientists like C.V. Raman and Srinivasa Ramanujan, who expanded the boundaries of human knowledge. They all had one thing in common—an unwavering faith in their vision.\n",
        "\n",
        "Today, I want to share with you the four important qualities that can lead you to success:\n",
        "\n",
        "Have a clear goal. Define your purpose. What do you want to achieve for yourself, for your society, and for your nation? Once your goal is clear, work towards it with dedication.\n",
        "\n",
        "Acquire knowledge continuously. Knowledge is power. In a fast-changing world, learning should never stop. Read, explore, experiment, and develop expertise in your field.\n",
        "\n",
        "Work hard with perseverance. Success does not come overnight. Failures will be there, but they are only stepping stones. Never lose confidence in yourself.\n",
        "\n",
        "Have integrity and values. Be honest, be ethical, and always stand by truth. A nation grows when its citizens uphold strong values.\n",
        "\n",
        "I believe that each one of you can contribute to making India a great nation. Our country needs thinkers, scientists, engineers, and entrepreneurs who will take us forward in innovation, technology, and leadership.\n",
        "\n",
        "As I conclude, I want you to remember this: You have within you the power to transform your dreams into reality. Never stop dreaming, never stop learning, and never stop working hard.\n",
        "\n",
        "Let us together build a better India. Let us make our nation proud.\n",
        "\n",
        "May your dreams lead you to greatness!\n",
        "\n",
        "Jai Hind!\n",
        "\n",
        "\n",
        "\n",
        "'''"
      ],
      "metadata": {
        "id": "LFshCbUBsWdI"
      },
      "execution_count": null,
      "outputs": []
    },
    {
      "cell_type": "code",
      "source": [
        "from nltk.stem import PorterStemmer\n",
        "from nltk.corpus import stopwords"
      ],
      "metadata": {
        "id": "kRU2GLfKsWhQ"
      },
      "execution_count": null,
      "outputs": []
    },
    {
      "cell_type": "code",
      "source": [
        "import nltk\n",
        "nltk.download('stopwords')"
      ],
      "metadata": {
        "colab": {
          "base_uri": "https://localhost:8080/"
        },
        "id": "xDkLeJk1tbDO",
        "outputId": "4ad2a317-b382-4328-c08b-372d2dc5b8ea"
      },
      "execution_count": null,
      "outputs": [
        {
          "output_type": "stream",
          "name": "stderr",
          "text": [
            "[nltk_data] Downloading package stopwords to /root/nltk_data...\n",
            "[nltk_data]   Unzipping corpora/stopwords.zip.\n"
          ]
        },
        {
          "output_type": "execute_result",
          "data": {
            "text/plain": [
              "True"
            ]
          },
          "metadata": {},
          "execution_count": 62
        }
      ]
    },
    {
      "cell_type": "code",
      "source": [
        "stopwords.words('english')"
      ],
      "metadata": {
        "colab": {
          "base_uri": "https://localhost:8080/"
        },
        "id": "HnS041BHtbGL",
        "outputId": "433978fd-553d-4fd5-b578-da6a5f285f0b"
      },
      "execution_count": null,
      "outputs": [
        {
          "output_type": "execute_result",
          "data": {
            "text/plain": [
              "['a',\n",
              " 'about',\n",
              " 'above',\n",
              " 'after',\n",
              " 'again',\n",
              " 'against',\n",
              " 'ain',\n",
              " 'all',\n",
              " 'am',\n",
              " 'an',\n",
              " 'and',\n",
              " 'any',\n",
              " 'are',\n",
              " 'aren',\n",
              " \"aren't\",\n",
              " 'as',\n",
              " 'at',\n",
              " 'be',\n",
              " 'because',\n",
              " 'been',\n",
              " 'before',\n",
              " 'being',\n",
              " 'below',\n",
              " 'between',\n",
              " 'both',\n",
              " 'but',\n",
              " 'by',\n",
              " 'can',\n",
              " 'couldn',\n",
              " \"couldn't\",\n",
              " 'd',\n",
              " 'did',\n",
              " 'didn',\n",
              " \"didn't\",\n",
              " 'do',\n",
              " 'does',\n",
              " 'doesn',\n",
              " \"doesn't\",\n",
              " 'doing',\n",
              " 'don',\n",
              " \"don't\",\n",
              " 'down',\n",
              " 'during',\n",
              " 'each',\n",
              " 'few',\n",
              " 'for',\n",
              " 'from',\n",
              " 'further',\n",
              " 'had',\n",
              " 'hadn',\n",
              " \"hadn't\",\n",
              " 'has',\n",
              " 'hasn',\n",
              " \"hasn't\",\n",
              " 'have',\n",
              " 'haven',\n",
              " \"haven't\",\n",
              " 'having',\n",
              " 'he',\n",
              " \"he'd\",\n",
              " \"he'll\",\n",
              " 'her',\n",
              " 'here',\n",
              " 'hers',\n",
              " 'herself',\n",
              " \"he's\",\n",
              " 'him',\n",
              " 'himself',\n",
              " 'his',\n",
              " 'how',\n",
              " 'i',\n",
              " \"i'd\",\n",
              " 'if',\n",
              " \"i'll\",\n",
              " \"i'm\",\n",
              " 'in',\n",
              " 'into',\n",
              " 'is',\n",
              " 'isn',\n",
              " \"isn't\",\n",
              " 'it',\n",
              " \"it'd\",\n",
              " \"it'll\",\n",
              " \"it's\",\n",
              " 'its',\n",
              " 'itself',\n",
              " \"i've\",\n",
              " 'just',\n",
              " 'll',\n",
              " 'm',\n",
              " 'ma',\n",
              " 'me',\n",
              " 'mightn',\n",
              " \"mightn't\",\n",
              " 'more',\n",
              " 'most',\n",
              " 'mustn',\n",
              " \"mustn't\",\n",
              " 'my',\n",
              " 'myself',\n",
              " 'needn',\n",
              " \"needn't\",\n",
              " 'no',\n",
              " 'nor',\n",
              " 'not',\n",
              " 'now',\n",
              " 'o',\n",
              " 'of',\n",
              " 'off',\n",
              " 'on',\n",
              " 'once',\n",
              " 'only',\n",
              " 'or',\n",
              " 'other',\n",
              " 'our',\n",
              " 'ours',\n",
              " 'ourselves',\n",
              " 'out',\n",
              " 'over',\n",
              " 'own',\n",
              " 're',\n",
              " 's',\n",
              " 'same',\n",
              " 'shan',\n",
              " \"shan't\",\n",
              " 'she',\n",
              " \"she'd\",\n",
              " \"she'll\",\n",
              " \"she's\",\n",
              " 'should',\n",
              " 'shouldn',\n",
              " \"shouldn't\",\n",
              " \"should've\",\n",
              " 'so',\n",
              " 'some',\n",
              " 'such',\n",
              " 't',\n",
              " 'than',\n",
              " 'that',\n",
              " \"that'll\",\n",
              " 'the',\n",
              " 'their',\n",
              " 'theirs',\n",
              " 'them',\n",
              " 'themselves',\n",
              " 'then',\n",
              " 'there',\n",
              " 'these',\n",
              " 'they',\n",
              " \"they'd\",\n",
              " \"they'll\",\n",
              " \"they're\",\n",
              " \"they've\",\n",
              " 'this',\n",
              " 'those',\n",
              " 'through',\n",
              " 'to',\n",
              " 'too',\n",
              " 'under',\n",
              " 'until',\n",
              " 'up',\n",
              " 've',\n",
              " 'very',\n",
              " 'was',\n",
              " 'wasn',\n",
              " \"wasn't\",\n",
              " 'we',\n",
              " \"we'd\",\n",
              " \"we'll\",\n",
              " \"we're\",\n",
              " 'were',\n",
              " 'weren',\n",
              " \"weren't\",\n",
              " \"we've\",\n",
              " 'what',\n",
              " 'when',\n",
              " 'where',\n",
              " 'which',\n",
              " 'while',\n",
              " 'who',\n",
              " 'whom',\n",
              " 'why',\n",
              " 'will',\n",
              " 'with',\n",
              " 'won',\n",
              " \"won't\",\n",
              " 'wouldn',\n",
              " \"wouldn't\",\n",
              " 'y',\n",
              " 'you',\n",
              " \"you'd\",\n",
              " \"you'll\",\n",
              " 'your',\n",
              " \"you're\",\n",
              " 'yours',\n",
              " 'yourself',\n",
              " 'yourselves',\n",
              " \"you've\"]"
            ]
          },
          "metadata": {},
          "execution_count": 65
        }
      ]
    },
    {
      "cell_type": "code",
      "source": [
        "from nltk.stem import PorterStemmer\n",
        "stemming = PorterStemmer()"
      ],
      "metadata": {
        "id": "42Or3yqJsWkq"
      },
      "execution_count": null,
      "outputs": []
    },
    {
      "cell_type": "code",
      "source": [
        "import nltk\n",
        "nltk.download('punkt_tab')"
      ],
      "metadata": {
        "colab": {
          "base_uri": "https://localhost:8080/"
        },
        "id": "N1iypt6vsWny",
        "outputId": "39952ba0-1771-4821-e203-c8077cefcae2"
      },
      "execution_count": null,
      "outputs": [
        {
          "output_type": "stream",
          "name": "stderr",
          "text": [
            "[nltk_data] Downloading package punkt_tab to /root/nltk_data...\n",
            "[nltk_data]   Unzipping tokenizers/punkt_tab.zip.\n"
          ]
        },
        {
          "output_type": "execute_result",
          "data": {
            "text/plain": [
              "True"
            ]
          },
          "metadata": {},
          "execution_count": 68
        }
      ]
    },
    {
      "cell_type": "code",
      "source": [
        "sentences2 = nltk.sent_tokenize(paragraph)"
      ],
      "metadata": {
        "id": "4rjEVFj3uT4v"
      },
      "execution_count": null,
      "outputs": []
    },
    {
      "cell_type": "code",
      "source": [
        "print(sentences2)"
      ],
      "metadata": {
        "colab": {
          "base_uri": "https://localhost:8080/"
        },
        "id": "4kR72WHSuaxw",
        "outputId": "35956db7-e221-428f-8d91-04f1f93a5db5"
      },
      "execution_count": null,
      "outputs": [
        {
          "output_type": "stream",
          "name": "stdout",
          "text": [
            "['\\nMy dear friends,\\n\\nIt is a great honor to stand before you today.', 'Whenever I interact with young minds, I see the future of our nation in their eyes.', 'I see the energy, the passion, and the limitless potential that can shape India into a developed nation.', 'I always tell young people: Dream big.', 'Dreams are not those that come to you when you sleep; dreams are those that do not let you sleep.', 'A dream is the seed of transformation.', 'When you dream, you ignite your mind to think, to innovate, and to achieve.', 'Throughout history, great leaders, scientists, and visionaries have transformed their dreams into reality.', 'They did not wait for opportunities; they created them.', 'Look at the Wright brothers, who dreamed of flying.', 'Look at scientists like C.V. Raman and Srinivasa Ramanujan, who expanded the boundaries of human knowledge.', 'They all had one thing in common—an unwavering faith in their vision.', 'Today, I want to share with you the four important qualities that can lead you to success:\\n\\nHave a clear goal.', 'Define your purpose.', 'What do you want to achieve for yourself, for your society, and for your nation?', 'Once your goal is clear, work towards it with dedication.', 'Acquire knowledge continuously.', 'Knowledge is power.', 'In a fast-changing world, learning should never stop.', 'Read, explore, experiment, and develop expertise in your field.', 'Work hard with perseverance.', 'Success does not come overnight.', 'Failures will be there, but they are only stepping stones.', 'Never lose confidence in yourself.', 'Have integrity and values.', 'Be honest, be ethical, and always stand by truth.', 'A nation grows when its citizens uphold strong values.', 'I believe that each one of you can contribute to making India a great nation.', 'Our country needs thinkers, scientists, engineers, and entrepreneurs who will take us forward in innovation, technology, and leadership.', 'As I conclude, I want you to remember this: You have within you the power to transform your dreams into reality.', 'Never stop dreaming, never stop learning, and never stop working hard.', 'Let us together build a better India.', 'Let us make our nation proud.', 'May your dreams lead you to greatness!', 'Jai Hind!']\n"
          ]
        }
      ]
    },
    {
      "cell_type": "code",
      "source": [
        "type(sentences2)"
      ],
      "metadata": {
        "colab": {
          "base_uri": "https://localhost:8080/"
        },
        "id": "djROLBIkudh9",
        "outputId": "52c0778a-04f6-4bb3-8392-6baf4030fcd2"
      },
      "execution_count": null,
      "outputs": [
        {
          "output_type": "execute_result",
          "data": {
            "text/plain": [
              "list"
            ]
          },
          "metadata": {},
          "execution_count": 71
        }
      ]
    },
    {
      "cell_type": "code",
      "source": [
        "# Apply Stopwords And Filter And Then Apply Stemming\n",
        "\n",
        "for i in range(len(sentences2)):\n",
        "  words = nltk.word_tokenize(sentences2[i])\n",
        "  words = [stemming.stem(word) for word in words if word not in set(stopwords.words('english'))]\n",
        "  sentences2[i] = ' '.join(words) # converting all list of words into sentences"
      ],
      "metadata": {
        "id": "Www2_x5BuitE"
      },
      "execution_count": null,
      "outputs": []
    },
    {
      "cell_type": "code",
      "source": [
        "sentences2"
      ],
      "metadata": {
        "colab": {
          "base_uri": "https://localhost:8080/"
        },
        "id": "XUGM8VEmyXHK",
        "outputId": "f9ce985b-a0c2-4c16-d108-20489ab20367"
      },
      "execution_count": null,
      "outputs": [
        {
          "output_type": "execute_result",
          "data": {
            "text/plain": [
              "['my dear friend , it great honor stand today .',\n",
              " 'whenev i interact young mind , i see futur nation eye .',\n",
              " 'i see energi , passion , limitless potenti shape india develop nation .',\n",
              " 'i alway tell young peopl : dream big .',\n",
              " 'dream come sleep ; dream let sleep .',\n",
              " 'a dream seed transform .',\n",
              " 'when dream , ignit mind think , innov , achiev .',\n",
              " 'throughout histori , great leader , scientist , visionari transform dream realiti .',\n",
              " 'they wait opportun ; creat .',\n",
              " 'look wright brother , dream fli .',\n",
              " 'look scientist like c.v. raman srinivasa ramanujan , expand boundari human knowledg .',\n",
              " 'they one thing common—an unwav faith vision .',\n",
              " 'today , i want share four import qualiti lead success : have clear goal .',\n",
              " 'defin purpos .',\n",
              " 'what want achiev , societi , nation ?',\n",
              " 'onc goal clear , work toward dedic .',\n",
              " 'acquir knowledg continu .',\n",
              " 'knowledg power .',\n",
              " 'in fast-chang world , learn never stop .',\n",
              " 'read , explor , experi , develop expertis field .',\n",
              " 'work hard persever .',\n",
              " 'success come overnight .',\n",
              " 'failur , step stone .',\n",
              " 'never lose confid .',\n",
              " 'have integr valu .',\n",
              " 'be honest , ethic , alway stand truth .',\n",
              " 'a nation grow citizen uphold strong valu .',\n",
              " 'i believ one contribut make india great nation .',\n",
              " 'our countri need thinker , scientist , engin , entrepreneur take us forward innov , technolog , leadership .',\n",
              " 'as i conclud , i want rememb : you within power transform dream realiti .',\n",
              " 'never stop dream , never stop learn , never stop work hard .',\n",
              " 'let us togeth build better india .',\n",
              " 'let us make nation proud .',\n",
              " 'may dream lead great !',\n",
              " 'jai hind !']"
            ]
          },
          "metadata": {},
          "execution_count": 75
        }
      ]
    },
    {
      "cell_type": "code",
      "source": [
        "from nltk.stem import WordNetLemmatizer\n",
        "lemmatizer = WordNetLemmatizer()"
      ],
      "metadata": {
        "id": "dZywbANQyxCv"
      },
      "execution_count": 76,
      "outputs": []
    },
    {
      "cell_type": "code",
      "source": [
        "#Apply snowball stemming with stopwords\n",
        "\n",
        "for i in range(len(sentences2)):\n",
        "  words = nltk.word_tokenize(sentences2[i])\n",
        "  words = [lemmatizer.lemmatize(word,pos='v') for word in words if word not in set(stopwords.words('english'))]\n",
        "  sentences2[i] = ' '.join(words).lower()"
      ],
      "metadata": {
        "id": "Mz1gAWoJzcIi"
      },
      "execution_count": 81,
      "outputs": []
    },
    {
      "cell_type": "code",
      "source": [
        "sentences2"
      ],
      "metadata": {
        "colab": {
          "base_uri": "https://localhost:8080/"
        },
        "id": "5N3Nf1dkzckS",
        "outputId": "50cbc99d-af06-40d3-dd1e-07c7903041d2"
      },
      "execution_count": 82,
      "outputs": [
        {
          "output_type": "execute_result",
          "data": {
            "text/plain": [
              "['dear friend , great honor stand today .',\n",
              " 'whenev interact young mind , see futur nation eye .',\n",
              " 'see energi , passion , limitless potenti shape india develop nation .',\n",
              " 'alway tell young peopl : dream big .',\n",
              " 'dream come sleep ; dream let sleep .',\n",
              " 'dream seed transform .',\n",
              " 'dream , ignit mind think , innov , achiev .',\n",
              " 'throughout histori , great leader , scientist , visionari transform dream realiti .',\n",
              " 'wait opportun ; creat .',\n",
              " 'look wright brother , dream fli .',\n",
              " 'look scientist like c.v. raman srinivasa ramanujan , expand boundari human knowledg .',\n",
              " 'one thing common—an unwav faith vision .',\n",
              " 'today , want share four import qualiti lead success : clear goal .',\n",
              " 'defin purpos .',\n",
              " 'want achiev , societi , nation ?',\n",
              " 'onc goal clear , work toward dedic .',\n",
              " 'acquir knowledg continu .',\n",
              " 'knowledg power .',\n",
              " 'fast-chang world , learn never stop .',\n",
              " 'read , explor , experi , develop expertis field .',\n",
              " 'work hard persever .',\n",
              " 'success come overnight .',\n",
              " 'failur , step stone .',\n",
              " 'never lose confid .',\n",
              " 'integr valu .',\n",
              " 'honest , ethic , alway stand truth .',\n",
              " 'nation grow citizen uphold strong valu .',\n",
              " 'believ one contribut make india great nation .',\n",
              " 'countri need thinker , scientist , engin , entrepreneur take u forward innov , technolog , leadership .',\n",
              " 'conclud , want rememb : within power transform dream realiti .',\n",
              " 'never stop dream , never stop learn , never stop work hard .',\n",
              " 'let u togeth build better india .',\n",
              " 'let u make nation proud .',\n",
              " 'may dream lead great !',\n",
              " 'jai hind !']"
            ]
          },
          "metadata": {},
          "execution_count": 82
        }
      ]
    },
    {
      "cell_type": "code",
      "source": [],
      "metadata": {
        "id": "MBf0QxtGzcnD"
      },
      "execution_count": null,
      "outputs": []
    }
  ]
}