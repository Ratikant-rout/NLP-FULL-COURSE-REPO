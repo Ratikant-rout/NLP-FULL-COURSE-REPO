{
  "nbformat": 4,
  "nbformat_minor": 0,
  "metadata": {
    "colab": {
      "provenance": [],
      "authorship_tag": "ABX9TyNnVyELQwiAWbtDuHhaVkDT",
      "include_colab_link": true
    },
    "kernelspec": {
      "name": "python3",
      "display_name": "Python 3"
    },
    "language_info": {
      "name": "python"
    }
  },
  "cells": [
    {
      "cell_type": "markdown",
      "metadata": {
        "id": "view-in-github",
        "colab_type": "text"
      },
      "source": [
        "<a href=\"https://colab.research.google.com/github/Ratikant-rout/NLP-FULL-COURSE-REPO/blob/main/PART_3_POS_TAGGING_AND_NER_TAGGING.ipynb\" target=\"_parent\"><img src=\"https://colab.research.google.com/assets/colab-badge.svg\" alt=\"Open In Colab\"/></a>"
      ]
    },
    {
      "cell_type": "code",
      "execution_count": null,
      "metadata": {
        "id": "P6Chd1Hh1EXK"
      },
      "outputs": [],
      "source": []
    },
    {
      "cell_type": "markdown",
      "source": [
        "# POS TAGGING"
      ],
      "metadata": {
        "id": "yrtzC3we6wYh"
      }
    },
    {
      "cell_type": "code",
      "source": [
        "paragraph = \"\"\"\n",
        "\n",
        "My dear friends,\n",
        "\n",
        "It is a great honor to stand before you today. Whenever I interact with young minds, I see the future of our nation in their eyes. I see the energy, the passion, and the limitless potential that can shape India into a developed nation.\n",
        "\n",
        "I always tell young people: Dream big. Dreams are not those that come to you when you sleep; dreams are those that do not let you sleep. A dream is the seed of transformation. When you dream, you ignite your mind to think, to innovate, and to achieve.\n",
        "\n",
        "Throughout history, great leaders, scientists, and visionaries have transformed their dreams into reality. They did not wait for opportunities; they created them. Look at the Wright brothers, who dreamed of flying. Look at scientists like C.V. Raman and Srinivasa Ramanujan, who expanded the boundaries of human knowledge. They all had one thing in common—an unwavering faith in their vision.\n",
        "\n",
        "Today, I want to share with you the four important qualities that can lead you to success:\n",
        "\n",
        "Have a clear goal. Define your purpose. What do you want to achieve for yourself, for your society, and for your nation? Once your goal is clear, work towards it with dedication.\n",
        "\n",
        "Acquire knowledge continuously. Knowledge is power. In a fast-changing world, learning should never stop. Read, explore, experiment, and develop expertise in your field.\n",
        "\n",
        "Work hard with perseverance. Success does not come overnight. Failures will be there, but they are only stepping stones. Never lose confidence in yourself.\n",
        "\n",
        "Have integrity and values. Be honest, be ethical, and always stand by truth. A nation grows when its citizens uphold strong values.\n",
        "\n",
        "I believe that each one of you can contribute to making India a great nation. Our country needs thinkers, scientists, engineers, and entrepreneurs who will take us forward in innovation, technology, and leadership.\n",
        "\n",
        "As I conclude, I want you to remember this: You have within you the power to transform your dreams into reality. Never stop dreaming, never stop learning, and never stop working hard.\n",
        "\n",
        "Let us together build a better India. Let us make our nation proud.\n",
        "\n",
        "May your dreams lead you to greatness!\n",
        "\n",
        "Jai Hind!\n",
        "\n",
        "\n",
        "\n",
        "\"\"\""
      ],
      "metadata": {
        "id": "bAE_Y8lQFB_7"
      },
      "execution_count": 3,
      "outputs": []
    },
    {
      "cell_type": "code",
      "source": [
        "from nltk.stem import PorterStemmer\n",
        "from nltk.corpus import stopwords\n",
        "from nltk.stem import WordNetLemmatizer\n",
        "from nltk.tokenize import word_tokenize, sent_tokenize\n",
        "import nltk"
      ],
      "metadata": {
        "id": "5hxva5EjFCGk"
      },
      "execution_count": 4,
      "outputs": []
    },
    {
      "cell_type": "code",
      "source": [
        "import nltk\n",
        "nltk.download('punkt_tab')"
      ],
      "metadata": {
        "colab": {
          "base_uri": "https://localhost:8080/"
        },
        "id": "ac8lSQTuF9Ov",
        "outputId": "b57415fb-835f-40a8-c176-d4730adf9375"
      },
      "execution_count": 6,
      "outputs": [
        {
          "output_type": "stream",
          "name": "stderr",
          "text": [
            "[nltk_data] Downloading package punkt_tab to /root/nltk_data...\n",
            "[nltk_data]   Unzipping tokenizers/punkt_tab.zip.\n"
          ]
        },
        {
          "output_type": "execute_result",
          "data": {
            "text/plain": [
              "True"
            ]
          },
          "metadata": {},
          "execution_count": 6
        }
      ]
    },
    {
      "cell_type": "code",
      "source": [
        "sentences = nltk.sent_tokenize(paragraph)"
      ],
      "metadata": {
        "id": "rBhguRB7RSik"
      },
      "execution_count": 7,
      "outputs": []
    },
    {
      "cell_type": "code",
      "source": [
        "sentences"
      ],
      "metadata": {
        "colab": {
          "base_uri": "https://localhost:8080/"
        },
        "id": "1V5DWgmoRiGj",
        "outputId": "72127009-1136-4eaf-c539-7c2d360a8b13"
      },
      "execution_count": 8,
      "outputs": [
        {
          "output_type": "execute_result",
          "data": {
            "text/plain": [
              "['\\n\\nMy dear friends,\\n\\nIt is a great honor to stand before you today.',\n",
              " 'Whenever I interact with young minds, I see the future of our nation in their eyes.',\n",
              " 'I see the energy, the passion, and the limitless potential that can shape India into a developed nation.',\n",
              " 'I always tell young people: Dream big.',\n",
              " 'Dreams are not those that come to you when you sleep; dreams are those that do not let you sleep.',\n",
              " 'A dream is the seed of transformation.',\n",
              " 'When you dream, you ignite your mind to think, to innovate, and to achieve.',\n",
              " 'Throughout history, great leaders, scientists, and visionaries have transformed their dreams into reality.',\n",
              " 'They did not wait for opportunities; they created them.',\n",
              " 'Look at the Wright brothers, who dreamed of flying.',\n",
              " 'Look at scientists like C.V. Raman and Srinivasa Ramanujan, who expanded the boundaries of human knowledge.',\n",
              " 'They all had one thing in common—an unwavering faith in their vision.',\n",
              " 'Today, I want to share with you the four important qualities that can lead you to success:\\n\\nHave a clear goal.',\n",
              " 'Define your purpose.',\n",
              " 'What do you want to achieve for yourself, for your society, and for your nation?',\n",
              " 'Once your goal is clear, work towards it with dedication.',\n",
              " 'Acquire knowledge continuously.',\n",
              " 'Knowledge is power.',\n",
              " 'In a fast-changing world, learning should never stop.',\n",
              " 'Read, explore, experiment, and develop expertise in your field.',\n",
              " 'Work hard with perseverance.',\n",
              " 'Success does not come overnight.',\n",
              " 'Failures will be there, but they are only stepping stones.',\n",
              " 'Never lose confidence in yourself.',\n",
              " 'Have integrity and values.',\n",
              " 'Be honest, be ethical, and always stand by truth.',\n",
              " 'A nation grows when its citizens uphold strong values.',\n",
              " 'I believe that each one of you can contribute to making India a great nation.',\n",
              " 'Our country needs thinkers, scientists, engineers, and entrepreneurs who will take us forward in innovation, technology, and leadership.',\n",
              " 'As I conclude, I want you to remember this: You have within you the power to transform your dreams into reality.',\n",
              " 'Never stop dreaming, never stop learning, and never stop working hard.',\n",
              " 'Let us together build a better India.',\n",
              " 'Let us make our nation proud.',\n",
              " 'May your dreams lead you to greatness!',\n",
              " 'Jai Hind!']"
            ]
          },
          "metadata": {},
          "execution_count": 8
        }
      ]
    },
    {
      "cell_type": "code",
      "source": [
        "# We Wil Find Out Pos Tag\n",
        "\n",
        "import nltk\n",
        "nltk.download('stopwords')\n",
        "nltk.download('averaged_perceptron_tagger_eng')"
      ],
      "metadata": {
        "colab": {
          "base_uri": "https://localhost:8080/"
        },
        "id": "lJTTNODYRi9Q",
        "outputId": "533b0338-1a3c-4a89-b4e5-db3c07e76ab9"
      },
      "execution_count": 13,
      "outputs": [
        {
          "output_type": "stream",
          "name": "stderr",
          "text": [
            "[nltk_data] Downloading package stopwords to /root/nltk_data...\n",
            "[nltk_data]   Package stopwords is already up-to-date!\n",
            "[nltk_data] Downloading package averaged_perceptron_tagger_eng to\n",
            "[nltk_data]     /root/nltk_data...\n",
            "[nltk_data]   Unzipping taggers/averaged_perceptron_tagger_eng.zip.\n"
          ]
        },
        {
          "output_type": "execute_result",
          "data": {
            "text/plain": [
              "True"
            ]
          },
          "metadata": {},
          "execution_count": 13
        }
      ]
    },
    {
      "cell_type": "code",
      "source": [
        "for i in range (len(sentences)):\n",
        "  words = nltk.word_tokenize(sentences[i])\n",
        "  words = [word for word in words if word not in set(stopwords.words('english'))]\n",
        "  pos_tags = nltk.pos_tag(words)\n",
        "  print(pos_tags)"
      ],
      "metadata": {
        "colab": {
          "base_uri": "https://localhost:8080/"
        },
        "id": "isM15m0WR8Bs",
        "outputId": "72222f36-5410-404f-fcb6-aad7b8fded14"
      },
      "execution_count": 14,
      "outputs": [
        {
          "output_type": "stream",
          "name": "stdout",
          "text": [
            "[('My', 'PRP$'), ('dear', 'JJ'), ('friends', 'NNS'), (',', ','), ('It', 'PRP'), ('great', 'JJ'), ('honor', 'JJ'), ('stand', 'NN'), ('today', 'NN'), ('.', '.')]\n",
            "[('Whenever', 'WRB'), ('I', 'PRP'), ('interact', 'VBP'), ('young', 'JJ'), ('minds', 'NNS'), (',', ','), ('I', 'PRP'), ('see', 'VBP'), ('future', 'JJ'), ('nation', 'NN'), ('eyes', 'NNS'), ('.', '.')]\n",
            "[('I', 'PRP'), ('see', 'VBP'), ('energy', 'NN'), (',', ','), ('passion', 'NN'), (',', ','), ('limitless', 'JJ'), ('potential', 'JJ'), ('shape', 'NN'), ('India', 'NNP'), ('developed', 'VBD'), ('nation', 'NN'), ('.', '.')]\n",
            "[('I', 'PRP'), ('always', 'RB'), ('tell', 'VBP'), ('young', 'JJ'), ('people', 'NNS'), (':', ':'), ('Dream', 'NNP'), ('big', 'JJ'), ('.', '.')]\n",
            "[('Dreams', 'NNP'), ('come', 'VBP'), ('sleep', 'NN'), (';', ':'), ('dreams', 'NNS'), ('let', 'VBP'), ('sleep', 'VB'), ('.', '.')]\n",
            "[('A', 'DT'), ('dream', 'NN'), ('seed', 'NN'), ('transformation', 'NN'), ('.', '.')]\n",
            "[('When', 'WRB'), ('dream', 'NN'), (',', ','), ('ignite', 'JJ'), ('mind', 'NN'), ('think', 'NN'), (',', ','), ('innovate', 'NN'), (',', ','), ('achieve', 'VBP'), ('.', '.')]\n",
            "[('Throughout', 'IN'), ('history', 'NN'), (',', ','), ('great', 'JJ'), ('leaders', 'NNS'), (',', ','), ('scientists', 'NNS'), (',', ','), ('visionaries', 'NNS'), ('transformed', 'VBD'), ('dreams', 'JJ'), ('reality', 'NN'), ('.', '.')]\n",
            "[('They', 'PRP'), ('wait', 'VBP'), ('opportunities', 'NNS'), (';', ':'), ('created', 'VBN'), ('.', '.')]\n",
            "[('Look', 'NNP'), ('Wright', 'NNP'), ('brothers', 'NNS'), (',', ','), ('dreamed', 'VBD'), ('flying', 'VBG'), ('.', '.')]\n",
            "[('Look', 'VB'), ('scientists', 'NNS'), ('like', 'IN'), ('C.V.', 'NNP'), ('Raman', 'NNP'), ('Srinivasa', 'NNP'), ('Ramanujan', 'NNP'), (',', ','), ('expanded', 'VBD'), ('boundaries', 'NNS'), ('human', 'JJ'), ('knowledge', 'NN'), ('.', '.')]\n",
            "[('They', 'PRP'), ('one', 'CD'), ('thing', 'NN'), ('common—an', 'NN'), ('unwavering', 'VBG'), ('faith', 'JJ'), ('vision', 'NN'), ('.', '.')]\n",
            "[('Today', 'NN'), (',', ','), ('I', 'PRP'), ('want', 'VBP'), ('share', 'NN'), ('four', 'CD'), ('important', 'JJ'), ('qualities', 'NNS'), ('lead', 'JJ'), ('success', 'NN'), (':', ':'), ('Have', 'VBP'), ('clear', 'JJ'), ('goal', 'NN'), ('.', '.')]\n",
            "[('Define', 'NNP'), ('purpose', 'NN'), ('.', '.')]\n",
            "[('What', 'WP'), ('want', 'VBP'), ('achieve', 'NN'), (',', ','), ('society', 'NN'), (',', ','), ('nation', 'NN'), ('?', '.')]\n",
            "[('Once', 'RB'), ('goal', 'NN'), ('clear', 'JJ'), (',', ','), ('work', 'NN'), ('towards', 'NNS'), ('dedication', 'NN'), ('.', '.')]\n",
            "[('Acquire', 'NNP'), ('knowledge', 'NN'), ('continuously', 'RB'), ('.', '.')]\n",
            "[('Knowledge', 'NNP'), ('power', 'NN'), ('.', '.')]\n",
            "[('In', 'IN'), ('fast-changing', 'JJ'), ('world', 'NN'), (',', ','), ('learning', 'VBG'), ('never', 'RB'), ('stop', 'NN'), ('.', '.')]\n",
            "[('Read', 'NNP'), (',', ','), ('explore', 'RB'), (',', ','), ('experiment', 'NN'), (',', ','), ('develop', 'VB'), ('expertise', 'JJ'), ('field', 'NN'), ('.', '.')]\n",
            "[('Work', 'NNP'), ('hard', 'JJ'), ('perseverance', 'NN'), ('.', '.')]\n",
            "[('Success', 'NNP'), ('come', 'VBD'), ('overnight', 'RB'), ('.', '.')]\n",
            "[('Failures', 'NNS'), (',', ','), ('stepping', 'VBG'), ('stones', 'NNS'), ('.', '.')]\n",
            "[('Never', 'RB'), ('lose', 'VB'), ('confidence', 'NN'), ('.', '.')]\n",
            "[('Have', 'NNP'), ('integrity', 'NN'), ('values', 'NNS'), ('.', '.')]\n",
            "[('Be', 'NNP'), ('honest', 'JJS'), (',', ','), ('ethical', 'JJ'), (',', ','), ('always', 'RB'), ('stand', 'VBP'), ('truth', 'NN'), ('.', '.')]\n",
            "[('A', 'DT'), ('nation', 'NN'), ('grows', 'VBZ'), ('citizens', 'NNS'), ('uphold', 'JJ'), ('strong', 'JJ'), ('values', 'NNS'), ('.', '.')]\n",
            "[('I', 'PRP'), ('believe', 'VBP'), ('one', 'CD'), ('contribute', 'NN'), ('making', 'VBG'), ('India', 'NNP'), ('great', 'JJ'), ('nation', 'NN'), ('.', '.')]\n",
            "[('Our', 'PRP$'), ('country', 'NN'), ('needs', 'VBZ'), ('thinkers', 'NNS'), (',', ','), ('scientists', 'NNS'), (',', ','), ('engineers', 'NNS'), (',', ','), ('entrepreneurs', 'NNS'), ('take', 'VBP'), ('us', 'PRP'), ('forward', 'JJ'), ('innovation', 'NN'), (',', ','), ('technology', 'NN'), (',', ','), ('leadership', 'NN'), ('.', '.')]\n",
            "[('As', 'IN'), ('I', 'PRP'), ('conclude', 'VBP'), (',', ','), ('I', 'PRP'), ('want', 'VBP'), ('remember', 'VB'), (':', ':'), ('You', 'PRP'), ('within', 'IN'), ('power', 'NN'), ('transform', 'NN'), ('dreams', 'VBZ'), ('reality', 'NN'), ('.', '.')]\n",
            "[('Never', 'RB'), ('stop', 'VB'), ('dreaming', 'NN'), (',', ','), ('never', 'RB'), ('stop', 'VB'), ('learning', 'NN'), (',', ','), ('never', 'RB'), ('stop', 'VB'), ('working', 'VBG'), ('hard', 'RB'), ('.', '.')]\n",
            "[('Let', 'VB'), ('us', 'PRP'), ('together', 'RB'), ('build', 'VBP'), ('better', 'JJR'), ('India', 'NNP'), ('.', '.')]\n",
            "[('Let', 'VB'), ('us', 'PRP'), ('make', 'VB'), ('nation', 'NN'), ('proud', 'NN'), ('.', '.')]\n",
            "[('May', 'NNP'), ('dreams', 'NNS'), ('lead', 'VBP'), ('greatness', 'NN'), ('!', '.')]\n",
            "[('Jai', 'NNP'), ('Hind', 'NNP'), ('!', '.')]\n"
          ]
        }
      ]
    },
    {
      "cell_type": "code",
      "source": [
        "nltk.pos_tag(word_tokenize(\"Taj mahal is a beautiful monument\"))"
      ],
      "metadata": {
        "colab": {
          "base_uri": "https://localhost:8080/"
        },
        "id": "zJSTCf-3SEEA",
        "outputId": "8c10ec66-092a-4636-e663-8a8f3c8c4707"
      },
      "execution_count": 17,
      "outputs": [
        {
          "output_type": "execute_result",
          "data": {
            "text/plain": [
              "[('Taj', 'NNP'),\n",
              " ('mahal', 'NN'),\n",
              " ('is', 'VBZ'),\n",
              " ('a', 'DT'),\n",
              " ('beautiful', 'JJ'),\n",
              " ('monument', 'NN')]"
            ]
          },
          "metadata": {},
          "execution_count": 17
        }
      ]
    },
    {
      "cell_type": "code",
      "source": [],
      "metadata": {
        "id": "pp1wjhpBTPz2"
      },
      "execution_count": null,
      "outputs": []
    },
    {
      "cell_type": "markdown",
      "source": [
        "# NAMED ENTITY RECOGNITION TAGGING"
      ],
      "metadata": {
        "id": "pFP9t505UCox"
      }
    },
    {
      "cell_type": "code",
      "source": [
        "\"\"\"\n",
        "NER TAGS\n",
        "\n",
        "Person - People, including fictional.\n",
        "Organization - Companies, agencies, institutions, etc.\n",
        "Location - Non-GPE locations, mountain ranges, bodies of water.\n",
        "Date - Absolute or relative dates or periods.\n",
        "Time - Times smaller than a day.\n",
        "\n",
        "\"\"\"\n",
        "\n",
        "sentences2 = \"\"\"\n",
        "\n",
        "The Eiffel Tower was built by French engineer Gustave Eiffel in 1889.\n",
        "Gustave designed it as the entrance arch for the 1889 World's Fair.\n",
        "Standing 330 meters tall, it remains an iconic landmark in Paris.\n",
        "Millions of tourists visit it every year to admire its beauty.\n",
        "\n",
        "\"\"\""
      ],
      "metadata": {
        "id": "-7QQb-4HUKOT"
      },
      "execution_count": 20,
      "outputs": []
    },
    {
      "cell_type": "code",
      "source": [
        "import nltk\n",
        "nltk.download('maxent_ne_chunker')\n",
        "nltk.download('words')"
      ],
      "metadata": {
        "colab": {
          "base_uri": "https://localhost:8080/"
        },
        "id": "AX34aEqsUKSb",
        "outputId": "3292efec-3a44-4288-a085-337f5909013f"
      },
      "execution_count": 21,
      "outputs": [
        {
          "output_type": "stream",
          "name": "stderr",
          "text": [
            "[nltk_data] Downloading package maxent_ne_chunker to\n",
            "[nltk_data]     /root/nltk_data...\n",
            "[nltk_data]   Unzipping chunkers/maxent_ne_chunker.zip.\n",
            "[nltk_data] Downloading package words to /root/nltk_data...\n",
            "[nltk_data]   Unzipping corpora/words.zip.\n"
          ]
        },
        {
          "output_type": "execute_result",
          "data": {
            "text/plain": [
              "True"
            ]
          },
          "metadata": {},
          "execution_count": 21
        }
      ]
    },
    {
      "cell_type": "code",
      "source": [
        "nltk.word_tokenize(sentences2)"
      ],
      "metadata": {
        "colab": {
          "base_uri": "https://localhost:8080/"
        },
        "id": "Yl6uDAEZUFId",
        "outputId": "f40277ec-cf3c-4e1c-b307-ec25a5c06724"
      },
      "execution_count": 22,
      "outputs": [
        {
          "output_type": "execute_result",
          "data": {
            "text/plain": [
              "['The',\n",
              " 'Eiffel',\n",
              " 'Tower',\n",
              " 'was',\n",
              " 'built',\n",
              " 'by',\n",
              " 'French',\n",
              " 'engineer',\n",
              " 'Gustave',\n",
              " 'Eiffel',\n",
              " 'in',\n",
              " '1889',\n",
              " '.',\n",
              " 'Gustave',\n",
              " 'designed',\n",
              " 'it',\n",
              " 'as',\n",
              " 'the',\n",
              " 'entrance',\n",
              " 'arch',\n",
              " 'for',\n",
              " 'the',\n",
              " '1889',\n",
              " 'World',\n",
              " \"'s\",\n",
              " 'Fair',\n",
              " '.',\n",
              " 'Standing',\n",
              " '330',\n",
              " 'meters',\n",
              " 'tall',\n",
              " ',',\n",
              " 'it',\n",
              " 'remains',\n",
              " 'an',\n",
              " 'iconic',\n",
              " 'landmark',\n",
              " 'in',\n",
              " 'Paris',\n",
              " '.',\n",
              " 'Millions',\n",
              " 'of',\n",
              " 'tourists',\n",
              " 'visit',\n",
              " 'it',\n",
              " 'every',\n",
              " 'year',\n",
              " 'to',\n",
              " 'admire',\n",
              " 'its',\n",
              " 'beauty',\n",
              " '.']"
            ]
          },
          "metadata": {},
          "execution_count": 22
        }
      ]
    },
    {
      "cell_type": "code",
      "source": [
        "pos_tag = nltk.pos_tag(nltk.word_tokenize(sentences2))\n",
        "pos_tag"
      ],
      "metadata": {
        "colab": {
          "base_uri": "https://localhost:8080/"
        },
        "id": "dIKluSFhUFMw",
        "outputId": "691681e8-ba39-4c51-9504-9231414ef38c"
      },
      "execution_count": 23,
      "outputs": [
        {
          "output_type": "execute_result",
          "data": {
            "text/plain": [
              "[('The', 'DT'),\n",
              " ('Eiffel', 'NNP'),\n",
              " ('Tower', 'NNP'),\n",
              " ('was', 'VBD'),\n",
              " ('built', 'VBN'),\n",
              " ('by', 'IN'),\n",
              " ('French', 'JJ'),\n",
              " ('engineer', 'NN'),\n",
              " ('Gustave', 'NNP'),\n",
              " ('Eiffel', 'NNP'),\n",
              " ('in', 'IN'),\n",
              " ('1889', 'CD'),\n",
              " ('.', '.'),\n",
              " ('Gustave', 'VB'),\n",
              " ('designed', 'VBN'),\n",
              " ('it', 'PRP'),\n",
              " ('as', 'IN'),\n",
              " ('the', 'DT'),\n",
              " ('entrance', 'NN'),\n",
              " ('arch', 'NN'),\n",
              " ('for', 'IN'),\n",
              " ('the', 'DT'),\n",
              " ('1889', 'CD'),\n",
              " ('World', 'NNP'),\n",
              " (\"'s\", 'POS'),\n",
              " ('Fair', 'NNP'),\n",
              " ('.', '.'),\n",
              " ('Standing', 'VBG'),\n",
              " ('330', 'CD'),\n",
              " ('meters', 'NNS'),\n",
              " ('tall', 'JJ'),\n",
              " (',', ','),\n",
              " ('it', 'PRP'),\n",
              " ('remains', 'VBZ'),\n",
              " ('an', 'DT'),\n",
              " ('iconic', 'JJ'),\n",
              " ('landmark', 'NN'),\n",
              " ('in', 'IN'),\n",
              " ('Paris', 'NNP'),\n",
              " ('.', '.'),\n",
              " ('Millions', 'NNS'),\n",
              " ('of', 'IN'),\n",
              " ('tourists', 'NNS'),\n",
              " ('visit', 'VBP'),\n",
              " ('it', 'PRP'),\n",
              " ('every', 'DT'),\n",
              " ('year', 'NN'),\n",
              " ('to', 'TO'),\n",
              " ('admire', 'VB'),\n",
              " ('its', 'PRP$'),\n",
              " ('beauty', 'NN'),\n",
              " ('.', '.')]"
            ]
          },
          "metadata": {},
          "execution_count": 23
        }
      ]
    },
    {
      "cell_type": "code",
      "source": [
        "nltk.download('maxent_ne_chunker_tab')\n",
        "!pip install svgling\n"
      ],
      "metadata": {
        "colab": {
          "base_uri": "https://localhost:8080/"
        },
        "id": "x6ZVYkH5UFQI",
        "outputId": "b30a6344-d07e-4fcb-8868-1ee1161a7f59"
      },
      "execution_count": 27,
      "outputs": [
        {
          "output_type": "stream",
          "name": "stderr",
          "text": [
            "[nltk_data] Downloading package maxent_ne_chunker_tab to\n",
            "[nltk_data]     /root/nltk_data...\n",
            "[nltk_data]   Package maxent_ne_chunker_tab is already up-to-date!\n"
          ]
        },
        {
          "output_type": "stream",
          "name": "stdout",
          "text": [
            "Collecting svgling\n",
            "  Downloading svgling-0.5.0-py3-none-any.whl.metadata (7.4 kB)\n",
            "Collecting svgwrite (from svgling)\n",
            "  Downloading svgwrite-1.4.3-py3-none-any.whl.metadata (8.8 kB)\n",
            "Downloading svgling-0.5.0-py3-none-any.whl (31 kB)\n",
            "Downloading svgwrite-1.4.3-py3-none-any.whl (67 kB)\n",
            "\u001b[2K   \u001b[90m━━━━━━━━━━━━━━━━━━━━━━━━━━━━━━━━━━━━━━━━\u001b[0m \u001b[32m67.1/67.1 kB\u001b[0m \u001b[31m2.9 MB/s\u001b[0m eta \u001b[36m0:00:00\u001b[0m\n",
            "\u001b[?25hInstalling collected packages: svgwrite, svgling\n",
            "Successfully installed svgling-0.5.0 svgwrite-1.4.3\n"
          ]
        }
      ]
    },
    {
      "cell_type": "code",
      "source": [
        "nltk.ne_chunk(pos_tag)"
      ],
      "metadata": {
        "colab": {
          "base_uri": "https://localhost:8080/",
          "height": 210
        },
        "id": "cvm5jfb1X_SF",
        "outputId": "3d82fb2f-6510-44a9-d883-2e47ac36d1f6"
      },
      "execution_count": 28,
      "outputs": [
        {
          "output_type": "execute_result",
          "data": {
            "text/plain": [
              "Tree('S', [('The', 'DT'), Tree('ORGANIZATION', [('Eiffel', 'NNP'), ('Tower', 'NNP')]), ('was', 'VBD'), ('built', 'VBN'), ('by', 'IN'), Tree('GPE', [('French', 'JJ')]), ('engineer', 'NN'), Tree('PERSON', [('Gustave', 'NNP'), ('Eiffel', 'NNP')]), ('in', 'IN'), ('1889', 'CD'), ('.', '.'), ('Gustave', 'VB'), ('designed', 'VBN'), ('it', 'PRP'), ('as', 'IN'), ('the', 'DT'), ('entrance', 'NN'), ('arch', 'NN'), ('for', 'IN'), ('the', 'DT'), ('1889', 'CD'), ('World', 'NNP'), (\"'s\", 'POS'), ('Fair', 'NNP'), ('.', '.'), ('Standing', 'VBG'), ('330', 'CD'), ('meters', 'NNS'), ('tall', 'JJ'), (',', ','), ('it', 'PRP'), ('remains', 'VBZ'), ('an', 'DT'), ('iconic', 'JJ'), ('landmark', 'NN'), ('in', 'IN'), Tree('GPE', [('Paris', 'NNP')]), ('.', '.'), ('Millions', 'NNS'), ('of', 'IN'), ('tourists', 'NNS'), ('visit', 'VBP'), ('it', 'PRP'), ('every', 'DT'), ('year', 'NN'), ('to', 'TO'), ('admire', 'VB'), ('its', 'PRP$'), ('beauty', 'NN'), ('.', '.')])"
            ],
            "image/svg+xml": "<svg baseProfile=\"full\" height=\"168px\" preserveAspectRatio=\"xMidYMid meet\" style=\"font-family: times, serif; font-weight: normal; font-style: normal; font-size: 16px\" version=\"1.1\" viewBox=\"0,0,2640.0,168.0\" width=\"2640px\" xmlns=\"http://www.w3.org/2000/svg\" xmlns:ev=\"http://www.w3.org/2001/xml-events\" xmlns:xlink=\"http://www.w3.org/1999/xlink\"><defs /><svg width=\"100%\" x=\"0\" y=\"0px\"><defs /><text text-anchor=\"middle\" x=\"50%\" y=\"16px\">S</text></svg><svg width=\"1.51515%\" x=\"0%\" y=\"48px\"><defs /><svg width=\"100%\" x=\"0\" y=\"0px\"><defs /><text text-anchor=\"middle\" x=\"50%\" y=\"16px\">The</text></svg><svg width=\"100%\" x=\"0%\" y=\"48px\"><defs /><svg width=\"100%\" x=\"0\" y=\"0px\"><defs /><text text-anchor=\"middle\" x=\"50%\" y=\"16px\">DT</text></svg></svg><line stroke=\"black\" x1=\"50%\" x2=\"50%\" y1=\"20px\" y2=\"48px\" /></svg><line stroke=\"black\" x1=\"50%\" x2=\"0.757576%\" y1=\"20px\" y2=\"48px\" /><svg width=\"4.54545%\" x=\"1.51515%\" y=\"48px\"><defs /><svg width=\"100%\" x=\"0\" y=\"0px\"><defs /><text text-anchor=\"middle\" x=\"50%\" y=\"16px\">ORGANIZATION</text></svg><svg width=\"53.3333%\" x=\"0%\" y=\"48px\"><defs /><svg width=\"100%\" x=\"0\" y=\"0px\"><defs /><text text-anchor=\"middle\" x=\"50%\" y=\"16px\">Eiffel</text></svg><svg width=\"100%\" x=\"0%\" y=\"48px\"><defs /><svg width=\"100%\" x=\"0\" y=\"0px\"><defs /><text text-anchor=\"middle\" x=\"50%\" y=\"16px\">NNP</text></svg></svg><line stroke=\"black\" x1=\"50%\" x2=\"50%\" y1=\"20px\" y2=\"48px\" /></svg><line stroke=\"black\" x1=\"50%\" x2=\"26.6667%\" y1=\"20px\" y2=\"48px\" /><svg width=\"46.6667%\" x=\"53.3333%\" y=\"48px\"><defs /><svg width=\"100%\" x=\"0\" y=\"0px\"><defs /><text text-anchor=\"middle\" x=\"50%\" y=\"16px\">Tower</text></svg><svg width=\"100%\" x=\"0%\" y=\"48px\"><defs /><svg width=\"100%\" x=\"0\" y=\"0px\"><defs /><text text-anchor=\"middle\" x=\"50%\" y=\"16px\">NNP</text></svg></svg><line stroke=\"black\" x1=\"50%\" x2=\"50%\" y1=\"20px\" y2=\"48px\" /></svg><line stroke=\"black\" x1=\"50%\" x2=\"76.6667%\" y1=\"20px\" y2=\"48px\" /></svg><line stroke=\"black\" x1=\"50%\" x2=\"3.78788%\" y1=\"20px\" y2=\"48px\" /><svg width=\"1.51515%\" x=\"6.06061%\" y=\"48px\"><defs /><svg width=\"100%\" x=\"0\" y=\"0px\"><defs /><text text-anchor=\"middle\" x=\"50%\" y=\"16px\">was</text></svg><svg width=\"100%\" x=\"0%\" y=\"48px\"><defs /><svg width=\"100%\" x=\"0\" y=\"0px\"><defs /><text text-anchor=\"middle\" x=\"50%\" y=\"16px\">VBD</text></svg></svg><line stroke=\"black\" x1=\"50%\" x2=\"50%\" y1=\"20px\" y2=\"48px\" /></svg><line stroke=\"black\" x1=\"50%\" x2=\"6.81818%\" y1=\"20px\" y2=\"48px\" /><svg width=\"2.12121%\" x=\"7.57576%\" y=\"48px\"><defs /><svg width=\"100%\" x=\"0\" y=\"0px\"><defs /><text text-anchor=\"middle\" x=\"50%\" y=\"16px\">built</text></svg><svg width=\"100%\" x=\"0%\" y=\"48px\"><defs /><svg width=\"100%\" x=\"0\" y=\"0px\"><defs /><text text-anchor=\"middle\" x=\"50%\" y=\"16px\">VBN</text></svg></svg><line stroke=\"black\" x1=\"50%\" x2=\"50%\" y1=\"20px\" y2=\"48px\" /></svg><line stroke=\"black\" x1=\"50%\" x2=\"8.63636%\" y1=\"20px\" y2=\"48px\" /><svg width=\"1.21212%\" x=\"9.69697%\" y=\"48px\"><defs /><svg width=\"100%\" x=\"0\" y=\"0px\"><defs /><text text-anchor=\"middle\" x=\"50%\" y=\"16px\">by</text></svg><svg width=\"100%\" x=\"0%\" y=\"48px\"><defs /><svg width=\"100%\" x=\"0\" y=\"0px\"><defs /><text text-anchor=\"middle\" x=\"50%\" y=\"16px\">IN</text></svg></svg><line stroke=\"black\" x1=\"50%\" x2=\"50%\" y1=\"20px\" y2=\"48px\" /></svg><line stroke=\"black\" x1=\"50%\" x2=\"10.303%\" y1=\"20px\" y2=\"48px\" /><svg width=\"2.42424%\" x=\"10.9091%\" y=\"48px\"><defs /><svg width=\"100%\" x=\"0\" y=\"0px\"><defs /><text text-anchor=\"middle\" x=\"50%\" y=\"16px\">GPE</text></svg><svg width=\"100%\" x=\"0%\" y=\"48px\"><defs /><svg width=\"100%\" x=\"0\" y=\"0px\"><defs /><text text-anchor=\"middle\" x=\"50%\" y=\"16px\">French</text></svg><svg width=\"100%\" x=\"0%\" y=\"48px\"><defs /><svg width=\"100%\" x=\"0\" y=\"0px\"><defs /><text text-anchor=\"middle\" x=\"50%\" y=\"16px\">JJ</text></svg></svg><line stroke=\"black\" x1=\"50%\" x2=\"50%\" y1=\"20px\" y2=\"48px\" /></svg><line stroke=\"black\" x1=\"50%\" x2=\"50%\" y1=\"20px\" y2=\"48px\" /></svg><line stroke=\"black\" x1=\"50%\" x2=\"12.1212%\" y1=\"20px\" y2=\"48px\" /><svg width=\"3.0303%\" x=\"13.3333%\" y=\"48px\"><defs /><svg width=\"100%\" x=\"0\" y=\"0px\"><defs /><text text-anchor=\"middle\" x=\"50%\" y=\"16px\">engineer</text></svg><svg width=\"100%\" x=\"0%\" y=\"48px\"><defs /><svg width=\"100%\" x=\"0\" y=\"0px\"><defs /><text text-anchor=\"middle\" x=\"50%\" y=\"16px\">NN</text></svg></svg><line stroke=\"black\" x1=\"50%\" x2=\"50%\" y1=\"20px\" y2=\"48px\" /></svg><line stroke=\"black\" x1=\"50%\" x2=\"14.8485%\" y1=\"20px\" y2=\"48px\" /><svg width=\"5.15152%\" x=\"16.3636%\" y=\"48px\"><defs /><svg width=\"100%\" x=\"0\" y=\"0px\"><defs /><text text-anchor=\"middle\" x=\"50%\" y=\"16px\">PERSON</text></svg><svg width=\"52.9412%\" x=\"0%\" y=\"48px\"><defs /><svg width=\"100%\" x=\"0\" y=\"0px\"><defs /><text text-anchor=\"middle\" x=\"50%\" y=\"16px\">Gustave</text></svg><svg width=\"100%\" x=\"0%\" y=\"48px\"><defs /><svg width=\"100%\" x=\"0\" y=\"0px\"><defs /><text text-anchor=\"middle\" x=\"50%\" y=\"16px\">NNP</text></svg></svg><line stroke=\"black\" x1=\"50%\" x2=\"50%\" y1=\"20px\" y2=\"48px\" /></svg><line stroke=\"black\" x1=\"50%\" x2=\"26.4706%\" y1=\"20px\" y2=\"48px\" /><svg width=\"47.0588%\" x=\"52.9412%\" y=\"48px\"><defs /><svg width=\"100%\" x=\"0\" y=\"0px\"><defs /><text text-anchor=\"middle\" x=\"50%\" y=\"16px\">Eiffel</text></svg><svg width=\"100%\" x=\"0%\" y=\"48px\"><defs /><svg width=\"100%\" x=\"0\" y=\"0px\"><defs /><text text-anchor=\"middle\" x=\"50%\" y=\"16px\">NNP</text></svg></svg><line stroke=\"black\" x1=\"50%\" x2=\"50%\" y1=\"20px\" y2=\"48px\" /></svg><line stroke=\"black\" x1=\"50%\" x2=\"76.4706%\" y1=\"20px\" y2=\"48px\" /></svg><line stroke=\"black\" x1=\"50%\" x2=\"18.9394%\" y1=\"20px\" y2=\"48px\" /><svg width=\"1.21212%\" x=\"21.5152%\" y=\"48px\"><defs /><svg width=\"100%\" x=\"0\" y=\"0px\"><defs /><text text-anchor=\"middle\" x=\"50%\" y=\"16px\">in</text></svg><svg width=\"100%\" x=\"0%\" y=\"48px\"><defs /><svg width=\"100%\" x=\"0\" y=\"0px\"><defs /><text text-anchor=\"middle\" x=\"50%\" y=\"16px\">IN</text></svg></svg><line stroke=\"black\" x1=\"50%\" x2=\"50%\" y1=\"20px\" y2=\"48px\" /></svg><line stroke=\"black\" x1=\"50%\" x2=\"22.1212%\" y1=\"20px\" y2=\"48px\" /><svg width=\"1.81818%\" x=\"22.7273%\" y=\"48px\"><defs /><svg width=\"100%\" x=\"0\" y=\"0px\"><defs /><text text-anchor=\"middle\" x=\"50%\" y=\"16px\">1889</text></svg><svg width=\"100%\" x=\"0%\" y=\"48px\"><defs /><svg width=\"100%\" x=\"0\" y=\"0px\"><defs /><text text-anchor=\"middle\" x=\"50%\" y=\"16px\">CD</text></svg></svg><line stroke=\"black\" x1=\"50%\" x2=\"50%\" y1=\"20px\" y2=\"48px\" /></svg><line stroke=\"black\" x1=\"50%\" x2=\"23.6364%\" y1=\"20px\" y2=\"48px\" /><svg width=\"0.909091%\" x=\"24.5455%\" y=\"48px\"><defs /><svg width=\"100%\" x=\"0\" y=\"0px\"><defs /><text text-anchor=\"middle\" x=\"50%\" y=\"16px\">.</text></svg><svg width=\"100%\" x=\"0%\" y=\"48px\"><defs /><svg width=\"100%\" x=\"0\" y=\"0px\"><defs /><text text-anchor=\"middle\" x=\"50%\" y=\"16px\">.</text></svg></svg><line stroke=\"black\" x1=\"50%\" x2=\"50%\" y1=\"20px\" y2=\"48px\" /></svg><line stroke=\"black\" x1=\"50%\" x2=\"25%\" y1=\"20px\" y2=\"48px\" /><svg width=\"2.72727%\" x=\"25.4545%\" y=\"48px\"><defs /><svg width=\"100%\" x=\"0\" y=\"0px\"><defs /><text text-anchor=\"middle\" x=\"50%\" y=\"16px\">Gustave</text></svg><svg width=\"100%\" x=\"0%\" y=\"48px\"><defs /><svg width=\"100%\" x=\"0\" y=\"0px\"><defs /><text text-anchor=\"middle\" x=\"50%\" y=\"16px\">VB</text></svg></svg><line stroke=\"black\" x1=\"50%\" x2=\"50%\" y1=\"20px\" y2=\"48px\" /></svg><line stroke=\"black\" x1=\"50%\" x2=\"26.8182%\" y1=\"20px\" y2=\"48px\" /><svg width=\"3.0303%\" x=\"28.1818%\" y=\"48px\"><defs /><svg width=\"100%\" x=\"0\" y=\"0px\"><defs /><text text-anchor=\"middle\" x=\"50%\" y=\"16px\">designed</text></svg><svg width=\"100%\" x=\"0%\" y=\"48px\"><defs /><svg width=\"100%\" x=\"0\" y=\"0px\"><defs /><text text-anchor=\"middle\" x=\"50%\" y=\"16px\">VBN</text></svg></svg><line stroke=\"black\" x1=\"50%\" x2=\"50%\" y1=\"20px\" y2=\"48px\" /></svg><line stroke=\"black\" x1=\"50%\" x2=\"29.697%\" y1=\"20px\" y2=\"48px\" /><svg width=\"1.51515%\" x=\"31.2121%\" y=\"48px\"><defs /><svg width=\"100%\" x=\"0\" y=\"0px\"><defs /><text text-anchor=\"middle\" x=\"50%\" y=\"16px\">it</text></svg><svg width=\"100%\" x=\"0%\" y=\"48px\"><defs /><svg width=\"100%\" x=\"0\" y=\"0px\"><defs /><text text-anchor=\"middle\" x=\"50%\" y=\"16px\">PRP</text></svg></svg><line stroke=\"black\" x1=\"50%\" x2=\"50%\" y1=\"20px\" y2=\"48px\" /></svg><line stroke=\"black\" x1=\"50%\" x2=\"31.9697%\" y1=\"20px\" y2=\"48px\" /><svg width=\"1.21212%\" x=\"32.7273%\" y=\"48px\"><defs /><svg width=\"100%\" x=\"0\" y=\"0px\"><defs /><text text-anchor=\"middle\" x=\"50%\" y=\"16px\">as</text></svg><svg width=\"100%\" x=\"0%\" y=\"48px\"><defs /><svg width=\"100%\" x=\"0\" y=\"0px\"><defs /><text text-anchor=\"middle\" x=\"50%\" y=\"16px\">IN</text></svg></svg><line stroke=\"black\" x1=\"50%\" x2=\"50%\" y1=\"20px\" y2=\"48px\" /></svg><line stroke=\"black\" x1=\"50%\" x2=\"33.3333%\" y1=\"20px\" y2=\"48px\" /><svg width=\"1.51515%\" x=\"33.9394%\" y=\"48px\"><defs /><svg width=\"100%\" x=\"0\" y=\"0px\"><defs /><text text-anchor=\"middle\" x=\"50%\" y=\"16px\">the</text></svg><svg width=\"100%\" x=\"0%\" y=\"48px\"><defs /><svg width=\"100%\" x=\"0\" y=\"0px\"><defs /><text text-anchor=\"middle\" x=\"50%\" y=\"16px\">DT</text></svg></svg><line stroke=\"black\" x1=\"50%\" x2=\"50%\" y1=\"20px\" y2=\"48px\" /></svg><line stroke=\"black\" x1=\"50%\" x2=\"34.697%\" y1=\"20px\" y2=\"48px\" /><svg width=\"3.0303%\" x=\"35.4545%\" y=\"48px\"><defs /><svg width=\"100%\" x=\"0\" y=\"0px\"><defs /><text text-anchor=\"middle\" x=\"50%\" y=\"16px\">entrance</text></svg><svg width=\"100%\" x=\"0%\" y=\"48px\"><defs /><svg width=\"100%\" x=\"0\" y=\"0px\"><defs /><text text-anchor=\"middle\" x=\"50%\" y=\"16px\">NN</text></svg></svg><line stroke=\"black\" x1=\"50%\" x2=\"50%\" y1=\"20px\" y2=\"48px\" /></svg><line stroke=\"black\" x1=\"50%\" x2=\"36.9697%\" y1=\"20px\" y2=\"48px\" /><svg width=\"1.81818%\" x=\"38.4848%\" y=\"48px\"><defs /><svg width=\"100%\" x=\"0\" y=\"0px\"><defs /><text text-anchor=\"middle\" x=\"50%\" y=\"16px\">arch</text></svg><svg width=\"100%\" x=\"0%\" y=\"48px\"><defs /><svg width=\"100%\" x=\"0\" y=\"0px\"><defs /><text text-anchor=\"middle\" x=\"50%\" y=\"16px\">NN</text></svg></svg><line stroke=\"black\" x1=\"50%\" x2=\"50%\" y1=\"20px\" y2=\"48px\" /></svg><line stroke=\"black\" x1=\"50%\" x2=\"39.3939%\" y1=\"20px\" y2=\"48px\" /><svg width=\"1.51515%\" x=\"40.303%\" y=\"48px\"><defs /><svg width=\"100%\" x=\"0\" y=\"0px\"><defs /><text text-anchor=\"middle\" x=\"50%\" y=\"16px\">for</text></svg><svg width=\"100%\" x=\"0%\" y=\"48px\"><defs /><svg width=\"100%\" x=\"0\" y=\"0px\"><defs /><text text-anchor=\"middle\" x=\"50%\" y=\"16px\">IN</text></svg></svg><line stroke=\"black\" x1=\"50%\" x2=\"50%\" y1=\"20px\" y2=\"48px\" /></svg><line stroke=\"black\" x1=\"50%\" x2=\"41.0606%\" y1=\"20px\" y2=\"48px\" /><svg width=\"1.51515%\" x=\"41.8182%\" y=\"48px\"><defs /><svg width=\"100%\" x=\"0\" y=\"0px\"><defs /><text text-anchor=\"middle\" x=\"50%\" y=\"16px\">the</text></svg><svg width=\"100%\" x=\"0%\" y=\"48px\"><defs /><svg width=\"100%\" x=\"0\" y=\"0px\"><defs /><text text-anchor=\"middle\" x=\"50%\" y=\"16px\">DT</text></svg></svg><line stroke=\"black\" x1=\"50%\" x2=\"50%\" y1=\"20px\" y2=\"48px\" /></svg><line stroke=\"black\" x1=\"50%\" x2=\"42.5758%\" y1=\"20px\" y2=\"48px\" /><svg width=\"1.81818%\" x=\"43.3333%\" y=\"48px\"><defs /><svg width=\"100%\" x=\"0\" y=\"0px\"><defs /><text text-anchor=\"middle\" x=\"50%\" y=\"16px\">1889</text></svg><svg width=\"100%\" x=\"0%\" y=\"48px\"><defs /><svg width=\"100%\" x=\"0\" y=\"0px\"><defs /><text text-anchor=\"middle\" x=\"50%\" y=\"16px\">CD</text></svg></svg><line stroke=\"black\" x1=\"50%\" x2=\"50%\" y1=\"20px\" y2=\"48px\" /></svg><line stroke=\"black\" x1=\"50%\" x2=\"44.2424%\" y1=\"20px\" y2=\"48px\" /><svg width=\"2.12121%\" x=\"45.1515%\" y=\"48px\"><defs /><svg width=\"100%\" x=\"0\" y=\"0px\"><defs /><text text-anchor=\"middle\" x=\"50%\" y=\"16px\">World</text></svg><svg width=\"100%\" x=\"0%\" y=\"48px\"><defs /><svg width=\"100%\" x=\"0\" y=\"0px\"><defs /><text text-anchor=\"middle\" x=\"50%\" y=\"16px\">NNP</text></svg></svg><line stroke=\"black\" x1=\"50%\" x2=\"50%\" y1=\"20px\" y2=\"48px\" /></svg><line stroke=\"black\" x1=\"50%\" x2=\"46.2121%\" y1=\"20px\" y2=\"48px\" /><svg width=\"1.51515%\" x=\"47.2727%\" y=\"48px\"><defs /><svg width=\"100%\" x=\"0\" y=\"0px\"><defs /><text text-anchor=\"middle\" x=\"50%\" y=\"16px\">'s</text></svg><svg width=\"100%\" x=\"0%\" y=\"48px\"><defs /><svg width=\"100%\" x=\"0\" y=\"0px\"><defs /><text text-anchor=\"middle\" x=\"50%\" y=\"16px\">POS</text></svg></svg><line stroke=\"black\" x1=\"50%\" x2=\"50%\" y1=\"20px\" y2=\"48px\" /></svg><line stroke=\"black\" x1=\"50%\" x2=\"48.0303%\" y1=\"20px\" y2=\"48px\" /><svg width=\"1.81818%\" x=\"48.7879%\" y=\"48px\"><defs /><svg width=\"100%\" x=\"0\" y=\"0px\"><defs /><text text-anchor=\"middle\" x=\"50%\" y=\"16px\">Fair</text></svg><svg width=\"100%\" x=\"0%\" y=\"48px\"><defs /><svg width=\"100%\" x=\"0\" y=\"0px\"><defs /><text text-anchor=\"middle\" x=\"50%\" y=\"16px\">NNP</text></svg></svg><line stroke=\"black\" x1=\"50%\" x2=\"50%\" y1=\"20px\" y2=\"48px\" /></svg><line stroke=\"black\" x1=\"50%\" x2=\"49.697%\" y1=\"20px\" y2=\"48px\" /><svg width=\"0.909091%\" x=\"50.6061%\" y=\"48px\"><defs /><svg width=\"100%\" x=\"0\" y=\"0px\"><defs /><text text-anchor=\"middle\" x=\"50%\" y=\"16px\">.</text></svg><svg width=\"100%\" x=\"0%\" y=\"48px\"><defs /><svg width=\"100%\" x=\"0\" y=\"0px\"><defs /><text text-anchor=\"middle\" x=\"50%\" y=\"16px\">.</text></svg></svg><line stroke=\"black\" x1=\"50%\" x2=\"50%\" y1=\"20px\" y2=\"48px\" /></svg><line stroke=\"black\" x1=\"50%\" x2=\"51.0606%\" y1=\"20px\" y2=\"48px\" /><svg width=\"3.0303%\" x=\"51.5152%\" y=\"48px\"><defs /><svg width=\"100%\" x=\"0\" y=\"0px\"><defs /><text text-anchor=\"middle\" x=\"50%\" y=\"16px\">Standing</text></svg><svg width=\"100%\" x=\"0%\" y=\"48px\"><defs /><svg width=\"100%\" x=\"0\" y=\"0px\"><defs /><text text-anchor=\"middle\" x=\"50%\" y=\"16px\">VBG</text></svg></svg><line stroke=\"black\" x1=\"50%\" x2=\"50%\" y1=\"20px\" y2=\"48px\" /></svg><line stroke=\"black\" x1=\"50%\" x2=\"53.0303%\" y1=\"20px\" y2=\"48px\" /><svg width=\"1.51515%\" x=\"54.5455%\" y=\"48px\"><defs /><svg width=\"100%\" x=\"0\" y=\"0px\"><defs /><text text-anchor=\"middle\" x=\"50%\" y=\"16px\">330</text></svg><svg width=\"100%\" x=\"0%\" y=\"48px\"><defs /><svg width=\"100%\" x=\"0\" y=\"0px\"><defs /><text text-anchor=\"middle\" x=\"50%\" y=\"16px\">CD</text></svg></svg><line stroke=\"black\" x1=\"50%\" x2=\"50%\" y1=\"20px\" y2=\"48px\" /></svg><line stroke=\"black\" x1=\"50%\" x2=\"55.303%\" y1=\"20px\" y2=\"48px\" /><svg width=\"2.42424%\" x=\"56.0606%\" y=\"48px\"><defs /><svg width=\"100%\" x=\"0\" y=\"0px\"><defs /><text text-anchor=\"middle\" x=\"50%\" y=\"16px\">meters</text></svg><svg width=\"100%\" x=\"0%\" y=\"48px\"><defs /><svg width=\"100%\" x=\"0\" y=\"0px\"><defs /><text text-anchor=\"middle\" x=\"50%\" y=\"16px\">NNS</text></svg></svg><line stroke=\"black\" x1=\"50%\" x2=\"50%\" y1=\"20px\" y2=\"48px\" /></svg><line stroke=\"black\" x1=\"50%\" x2=\"57.2727%\" y1=\"20px\" y2=\"48px\" /><svg width=\"1.81818%\" x=\"58.4848%\" y=\"48px\"><defs /><svg width=\"100%\" x=\"0\" y=\"0px\"><defs /><text text-anchor=\"middle\" x=\"50%\" y=\"16px\">tall</text></svg><svg width=\"100%\" x=\"0%\" y=\"48px\"><defs /><svg width=\"100%\" x=\"0\" y=\"0px\"><defs /><text text-anchor=\"middle\" x=\"50%\" y=\"16px\">JJ</text></svg></svg><line stroke=\"black\" x1=\"50%\" x2=\"50%\" y1=\"20px\" y2=\"48px\" /></svg><line stroke=\"black\" x1=\"50%\" x2=\"59.3939%\" y1=\"20px\" y2=\"48px\" /><svg width=\"0.909091%\" x=\"60.303%\" y=\"48px\"><defs /><svg width=\"100%\" x=\"0\" y=\"0px\"><defs /><text text-anchor=\"middle\" x=\"50%\" y=\"16px\">,</text></svg><svg width=\"100%\" x=\"0%\" y=\"48px\"><defs /><svg width=\"100%\" x=\"0\" y=\"0px\"><defs /><text text-anchor=\"middle\" x=\"50%\" y=\"16px\">,</text></svg></svg><line stroke=\"black\" x1=\"50%\" x2=\"50%\" y1=\"20px\" y2=\"48px\" /></svg><line stroke=\"black\" x1=\"50%\" x2=\"60.7576%\" y1=\"20px\" y2=\"48px\" /><svg width=\"1.51515%\" x=\"61.2121%\" y=\"48px\"><defs /><svg width=\"100%\" x=\"0\" y=\"0px\"><defs /><text text-anchor=\"middle\" x=\"50%\" y=\"16px\">it</text></svg><svg width=\"100%\" x=\"0%\" y=\"48px\"><defs /><svg width=\"100%\" x=\"0\" y=\"0px\"><defs /><text text-anchor=\"middle\" x=\"50%\" y=\"16px\">PRP</text></svg></svg><line stroke=\"black\" x1=\"50%\" x2=\"50%\" y1=\"20px\" y2=\"48px\" /></svg><line stroke=\"black\" x1=\"50%\" x2=\"61.9697%\" y1=\"20px\" y2=\"48px\" /><svg width=\"2.72727%\" x=\"62.7273%\" y=\"48px\"><defs /><svg width=\"100%\" x=\"0\" y=\"0px\"><defs /><text text-anchor=\"middle\" x=\"50%\" y=\"16px\">remains</text></svg><svg width=\"100%\" x=\"0%\" y=\"48px\"><defs /><svg width=\"100%\" x=\"0\" y=\"0px\"><defs /><text text-anchor=\"middle\" x=\"50%\" y=\"16px\">VBZ</text></svg></svg><line stroke=\"black\" x1=\"50%\" x2=\"50%\" y1=\"20px\" y2=\"48px\" /></svg><line stroke=\"black\" x1=\"50%\" x2=\"64.0909%\" y1=\"20px\" y2=\"48px\" /><svg width=\"1.21212%\" x=\"65.4545%\" y=\"48px\"><defs /><svg width=\"100%\" x=\"0\" y=\"0px\"><defs /><text text-anchor=\"middle\" x=\"50%\" y=\"16px\">an</text></svg><svg width=\"100%\" x=\"0%\" y=\"48px\"><defs /><svg width=\"100%\" x=\"0\" y=\"0px\"><defs /><text text-anchor=\"middle\" x=\"50%\" y=\"16px\">DT</text></svg></svg><line stroke=\"black\" x1=\"50%\" x2=\"50%\" y1=\"20px\" y2=\"48px\" /></svg><line stroke=\"black\" x1=\"50%\" x2=\"66.0606%\" y1=\"20px\" y2=\"48px\" /><svg width=\"2.42424%\" x=\"66.6667%\" y=\"48px\"><defs /><svg width=\"100%\" x=\"0\" y=\"0px\"><defs /><text text-anchor=\"middle\" x=\"50%\" y=\"16px\">iconic</text></svg><svg width=\"100%\" x=\"0%\" y=\"48px\"><defs /><svg width=\"100%\" x=\"0\" y=\"0px\"><defs /><text text-anchor=\"middle\" x=\"50%\" y=\"16px\">JJ</text></svg></svg><line stroke=\"black\" x1=\"50%\" x2=\"50%\" y1=\"20px\" y2=\"48px\" /></svg><line stroke=\"black\" x1=\"50%\" x2=\"67.8788%\" y1=\"20px\" y2=\"48px\" /><svg width=\"3.0303%\" x=\"69.0909%\" y=\"48px\"><defs /><svg width=\"100%\" x=\"0\" y=\"0px\"><defs /><text text-anchor=\"middle\" x=\"50%\" y=\"16px\">landmark</text></svg><svg width=\"100%\" x=\"0%\" y=\"48px\"><defs /><svg width=\"100%\" x=\"0\" y=\"0px\"><defs /><text text-anchor=\"middle\" x=\"50%\" y=\"16px\">NN</text></svg></svg><line stroke=\"black\" x1=\"50%\" x2=\"50%\" y1=\"20px\" y2=\"48px\" /></svg><line stroke=\"black\" x1=\"50%\" x2=\"70.6061%\" y1=\"20px\" y2=\"48px\" /><svg width=\"1.21212%\" x=\"72.1212%\" y=\"48px\"><defs /><svg width=\"100%\" x=\"0\" y=\"0px\"><defs /><text text-anchor=\"middle\" x=\"50%\" y=\"16px\">in</text></svg><svg width=\"100%\" x=\"0%\" y=\"48px\"><defs /><svg width=\"100%\" x=\"0\" y=\"0px\"><defs /><text text-anchor=\"middle\" x=\"50%\" y=\"16px\">IN</text></svg></svg><line stroke=\"black\" x1=\"50%\" x2=\"50%\" y1=\"20px\" y2=\"48px\" /></svg><line stroke=\"black\" x1=\"50%\" x2=\"72.7273%\" y1=\"20px\" y2=\"48px\" /><svg width=\"2.12121%\" x=\"73.3333%\" y=\"48px\"><defs /><svg width=\"100%\" x=\"0\" y=\"0px\"><defs /><text text-anchor=\"middle\" x=\"50%\" y=\"16px\">GPE</text></svg><svg width=\"100%\" x=\"0%\" y=\"48px\"><defs /><svg width=\"100%\" x=\"0\" y=\"0px\"><defs /><text text-anchor=\"middle\" x=\"50%\" y=\"16px\">Paris</text></svg><svg width=\"100%\" x=\"0%\" y=\"48px\"><defs /><svg width=\"100%\" x=\"0\" y=\"0px\"><defs /><text text-anchor=\"middle\" x=\"50%\" y=\"16px\">NNP</text></svg></svg><line stroke=\"black\" x1=\"50%\" x2=\"50%\" y1=\"20px\" y2=\"48px\" /></svg><line stroke=\"black\" x1=\"50%\" x2=\"50%\" y1=\"20px\" y2=\"48px\" /></svg><line stroke=\"black\" x1=\"50%\" x2=\"74.3939%\" y1=\"20px\" y2=\"48px\" /><svg width=\"0.909091%\" x=\"75.4545%\" y=\"48px\"><defs /><svg width=\"100%\" x=\"0\" y=\"0px\"><defs /><text text-anchor=\"middle\" x=\"50%\" y=\"16px\">.</text></svg><svg width=\"100%\" x=\"0%\" y=\"48px\"><defs /><svg width=\"100%\" x=\"0\" y=\"0px\"><defs /><text text-anchor=\"middle\" x=\"50%\" y=\"16px\">.</text></svg></svg><line stroke=\"black\" x1=\"50%\" x2=\"50%\" y1=\"20px\" y2=\"48px\" /></svg><line stroke=\"black\" x1=\"50%\" x2=\"75.9091%\" y1=\"20px\" y2=\"48px\" /><svg width=\"3.0303%\" x=\"76.3636%\" y=\"48px\"><defs /><svg width=\"100%\" x=\"0\" y=\"0px\"><defs /><text text-anchor=\"middle\" x=\"50%\" y=\"16px\">Millions</text></svg><svg width=\"100%\" x=\"0%\" y=\"48px\"><defs /><svg width=\"100%\" x=\"0\" y=\"0px\"><defs /><text text-anchor=\"middle\" x=\"50%\" y=\"16px\">NNS</text></svg></svg><line stroke=\"black\" x1=\"50%\" x2=\"50%\" y1=\"20px\" y2=\"48px\" /></svg><line stroke=\"black\" x1=\"50%\" x2=\"77.8788%\" y1=\"20px\" y2=\"48px\" /><svg width=\"1.21212%\" x=\"79.3939%\" y=\"48px\"><defs /><svg width=\"100%\" x=\"0\" y=\"0px\"><defs /><text text-anchor=\"middle\" x=\"50%\" y=\"16px\">of</text></svg><svg width=\"100%\" x=\"0%\" y=\"48px\"><defs /><svg width=\"100%\" x=\"0\" y=\"0px\"><defs /><text text-anchor=\"middle\" x=\"50%\" y=\"16px\">IN</text></svg></svg><line stroke=\"black\" x1=\"50%\" x2=\"50%\" y1=\"20px\" y2=\"48px\" /></svg><line stroke=\"black\" x1=\"50%\" x2=\"80%\" y1=\"20px\" y2=\"48px\" /><svg width=\"3.0303%\" x=\"80.6061%\" y=\"48px\"><defs /><svg width=\"100%\" x=\"0\" y=\"0px\"><defs /><text text-anchor=\"middle\" x=\"50%\" y=\"16px\">tourists</text></svg><svg width=\"100%\" x=\"0%\" y=\"48px\"><defs /><svg width=\"100%\" x=\"0\" y=\"0px\"><defs /><text text-anchor=\"middle\" x=\"50%\" y=\"16px\">NNS</text></svg></svg><line stroke=\"black\" x1=\"50%\" x2=\"50%\" y1=\"20px\" y2=\"48px\" /></svg><line stroke=\"black\" x1=\"50%\" x2=\"82.1212%\" y1=\"20px\" y2=\"48px\" /><svg width=\"2.12121%\" x=\"83.6364%\" y=\"48px\"><defs /><svg width=\"100%\" x=\"0\" y=\"0px\"><defs /><text text-anchor=\"middle\" x=\"50%\" y=\"16px\">visit</text></svg><svg width=\"100%\" x=\"0%\" y=\"48px\"><defs /><svg width=\"100%\" x=\"0\" y=\"0px\"><defs /><text text-anchor=\"middle\" x=\"50%\" y=\"16px\">VBP</text></svg></svg><line stroke=\"black\" x1=\"50%\" x2=\"50%\" y1=\"20px\" y2=\"48px\" /></svg><line stroke=\"black\" x1=\"50%\" x2=\"84.697%\" y1=\"20px\" y2=\"48px\" /><svg width=\"1.51515%\" x=\"85.7576%\" y=\"48px\"><defs /><svg width=\"100%\" x=\"0\" y=\"0px\"><defs /><text text-anchor=\"middle\" x=\"50%\" y=\"16px\">it</text></svg><svg width=\"100%\" x=\"0%\" y=\"48px\"><defs /><svg width=\"100%\" x=\"0\" y=\"0px\"><defs /><text text-anchor=\"middle\" x=\"50%\" y=\"16px\">PRP</text></svg></svg><line stroke=\"black\" x1=\"50%\" x2=\"50%\" y1=\"20px\" y2=\"48px\" /></svg><line stroke=\"black\" x1=\"50%\" x2=\"86.5152%\" y1=\"20px\" y2=\"48px\" /><svg width=\"2.12121%\" x=\"87.2727%\" y=\"48px\"><defs /><svg width=\"100%\" x=\"0\" y=\"0px\"><defs /><text text-anchor=\"middle\" x=\"50%\" y=\"16px\">every</text></svg><svg width=\"100%\" x=\"0%\" y=\"48px\"><defs /><svg width=\"100%\" x=\"0\" y=\"0px\"><defs /><text text-anchor=\"middle\" x=\"50%\" y=\"16px\">DT</text></svg></svg><line stroke=\"black\" x1=\"50%\" x2=\"50%\" y1=\"20px\" y2=\"48px\" /></svg><line stroke=\"black\" x1=\"50%\" x2=\"88.3333%\" y1=\"20px\" y2=\"48px\" /><svg width=\"1.81818%\" x=\"89.3939%\" y=\"48px\"><defs /><svg width=\"100%\" x=\"0\" y=\"0px\"><defs /><text text-anchor=\"middle\" x=\"50%\" y=\"16px\">year</text></svg><svg width=\"100%\" x=\"0%\" y=\"48px\"><defs /><svg width=\"100%\" x=\"0\" y=\"0px\"><defs /><text text-anchor=\"middle\" x=\"50%\" y=\"16px\">NN</text></svg></svg><line stroke=\"black\" x1=\"50%\" x2=\"50%\" y1=\"20px\" y2=\"48px\" /></svg><line stroke=\"black\" x1=\"50%\" x2=\"90.303%\" y1=\"20px\" y2=\"48px\" /><svg width=\"1.21212%\" x=\"91.2121%\" y=\"48px\"><defs /><svg width=\"100%\" x=\"0\" y=\"0px\"><defs /><text text-anchor=\"middle\" x=\"50%\" y=\"16px\">to</text></svg><svg width=\"100%\" x=\"0%\" y=\"48px\"><defs /><svg width=\"100%\" x=\"0\" y=\"0px\"><defs /><text text-anchor=\"middle\" x=\"50%\" y=\"16px\">TO</text></svg></svg><line stroke=\"black\" x1=\"50%\" x2=\"50%\" y1=\"20px\" y2=\"48px\" /></svg><line stroke=\"black\" x1=\"50%\" x2=\"91.8182%\" y1=\"20px\" y2=\"48px\" /><svg width=\"2.42424%\" x=\"92.4242%\" y=\"48px\"><defs /><svg width=\"100%\" x=\"0\" y=\"0px\"><defs /><text text-anchor=\"middle\" x=\"50%\" y=\"16px\">admire</text></svg><svg width=\"100%\" x=\"0%\" y=\"48px\"><defs /><svg width=\"100%\" x=\"0\" y=\"0px\"><defs /><text text-anchor=\"middle\" x=\"50%\" y=\"16px\">VB</text></svg></svg><line stroke=\"black\" x1=\"50%\" x2=\"50%\" y1=\"20px\" y2=\"48px\" /></svg><line stroke=\"black\" x1=\"50%\" x2=\"93.6364%\" y1=\"20px\" y2=\"48px\" /><svg width=\"1.81818%\" x=\"94.8485%\" y=\"48px\"><defs /><svg width=\"100%\" x=\"0\" y=\"0px\"><defs /><text text-anchor=\"middle\" x=\"50%\" y=\"16px\">its</text></svg><svg width=\"100%\" x=\"0%\" y=\"48px\"><defs /><svg width=\"100%\" x=\"0\" y=\"0px\"><defs /><text text-anchor=\"middle\" x=\"50%\" y=\"16px\">PRP$</text></svg></svg><line stroke=\"black\" x1=\"50%\" x2=\"50%\" y1=\"20px\" y2=\"48px\" /></svg><line stroke=\"black\" x1=\"50%\" x2=\"95.7576%\" y1=\"20px\" y2=\"48px\" /><svg width=\"2.42424%\" x=\"96.6667%\" y=\"48px\"><defs /><svg width=\"100%\" x=\"0\" y=\"0px\"><defs /><text text-anchor=\"middle\" x=\"50%\" y=\"16px\">beauty</text></svg><svg width=\"100%\" x=\"0%\" y=\"48px\"><defs /><svg width=\"100%\" x=\"0\" y=\"0px\"><defs /><text text-anchor=\"middle\" x=\"50%\" y=\"16px\">NN</text></svg></svg><line stroke=\"black\" x1=\"50%\" x2=\"50%\" y1=\"20px\" y2=\"48px\" /></svg><line stroke=\"black\" x1=\"50%\" x2=\"97.8788%\" y1=\"20px\" y2=\"48px\" /><svg width=\"0.909091%\" x=\"99.0909%\" y=\"48px\"><defs /><svg width=\"100%\" x=\"0\" y=\"0px\"><defs /><text text-anchor=\"middle\" x=\"50%\" y=\"16px\">.</text></svg><svg width=\"100%\" x=\"0%\" y=\"48px\"><defs /><svg width=\"100%\" x=\"0\" y=\"0px\"><defs /><text text-anchor=\"middle\" x=\"50%\" y=\"16px\">.</text></svg></svg><line stroke=\"black\" x1=\"50%\" x2=\"50%\" y1=\"20px\" y2=\"48px\" /></svg><line stroke=\"black\" x1=\"50%\" x2=\"99.5455%\" y1=\"20px\" y2=\"48px\" /></svg>"
          },
          "metadata": {},
          "execution_count": 28
        }
      ]
    },
    {
      "cell_type": "code",
      "source": [],
      "metadata": {
        "id": "uaZZQb05X_U4"
      },
      "execution_count": null,
      "outputs": []
    }
  ]
}